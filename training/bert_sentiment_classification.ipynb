{
 "cells": [
  {
   "cell_type": "markdown",
   "metadata": {},
   "source": [
    "# Traing BERT sentiment analysis model"
   ]
  },
  {
   "cell_type": "code",
   "execution_count": 3,
   "metadata": {},
   "outputs": [],
   "source": [
    "import nuclio"
   ]
  },
  {
   "cell_type": "markdown",
   "metadata": {},
   "source": [
    "## Environment"
   ]
  },
  {
   "cell_type": "code",
   "execution_count": 4,
   "metadata": {
    "colab": {
     "base_uri": "https://localhost:8080/",
     "height": 615
    },
    "colab_type": "code",
    "id": "ucTPIIJy8QjS",
    "outputId": "ab54a2ea-8cb6-4925-a9e8-e506f804cbf4"
   },
   "outputs": [],
   "source": [
    "%nuclio cmd -c python -m pip install transformers==3.0.1 torch"
   ]
  },
  {
   "cell_type": "markdown",
   "metadata": {},
   "source": [
    "## Function"
   ]
  },
  {
   "cell_type": "code",
   "execution_count": 5,
   "metadata": {},
   "outputs": [],
   "source": [
    "#nuclio: start-code"
   ]
  },
  {
   "cell_type": "code",
   "execution_count": 31,
   "metadata": {
    "colab": {
     "base_uri": "https://localhost:8080/",
     "height": 71
    },
    "colab_type": "code",
    "id": "XpEvMc9v-hla",
    "outputId": "551914c8-e8e7-412a-92d0-2688ef4f47ea"
   },
   "outputs": [],
   "source": [
    "import os\n",
    "import pandas as pd\n",
    "from transformers import BertTokenizer, AdamW, get_linear_schedule_with_warmup, BertModel\n",
    "import torch\n",
    "import torch.nn as nn\n",
    "from torch.utils import data\n",
    "import matplotlib.pyplot as plt\n",
    "from sklearn.model_selection import train_test_split\n",
    "import numpy as np\n",
    "import seaborn as sns\n",
    "from collections import defaultdict\n",
    "from mlrun.artifacts import PlotArtifact, ChartArtifact\n",
    "from mlrun.datastore import DataItem\n",
    "from mlrun import MLClientCtx"
   ]
  },
  {
   "cell_type": "code",
   "execution_count": 7,
   "metadata": {},
   "outputs": [],
   "source": [
    "class BertSentimentClassifier(nn.Module):\n",
    "    def __init__(self, pretrained_model, n_classes):\n",
    "        super(BertSentimentClassifier, self).__init__()\n",
    "        self.bert = BertModel.from_pretrained(pretrained_model)\n",
    "        self.dropout = nn.Dropout(p=0.2)\n",
    "        self.out_linear = nn.Linear(self.bert.config.hidden_size, n_classes)\n",
    "        self.softmax = nn.Softmax(dim=1)\n",
    "\n",
    "    def forward(self, input_ids, attention_mask):\n",
    "        _, pooled_out = self.bert(\n",
    "            input_ids=input_ids,\n",
    "            attention_mask=attention_mask\n",
    "        )\n",
    "        out = self.dropout(pooled_out)\n",
    "        out = self.out_linear(out)\n",
    "        return self.softmax(out)"
   ]
  },
  {
   "cell_type": "code",
   "execution_count": 8,
   "metadata": {
    "colab": {},
    "colab_type": "code",
    "id": "LA_e_S8b8Qjo"
   },
   "outputs": [],
   "source": [
    "class ReviewsDataset(data.Dataset):\n",
    "    def __init__(self, review, target, tokenizer, max_len):\n",
    "        self.review = review\n",
    "        self.target = target\n",
    "        self.tokenizer = tokenizer\n",
    "        self.max_len = max_len\n",
    "    \n",
    "    def __len__(self):\n",
    "        return len(self.review)\n",
    "    \n",
    "    def __getitem__(self, item):\n",
    "        review = str(self.review[item])\n",
    "        enc = self.tokenizer.encode_plus(\n",
    "            review,\n",
    "            max_length=self.max_len,\n",
    "            add_special_tokens=True,\n",
    "            pad_to_max_length=True,\n",
    "            return_attention_mask=True,\n",
    "            return_token_type_ids=False,\n",
    "            return_tensors='pt',\n",
    "            truncation=True)\n",
    "        \n",
    "        return {'input_ids': enc['input_ids'].squeeze(0), \n",
    "                'attention_mask': enc['attention_mask'].squeeze(0),\n",
    "                'targets': torch.tensor(self.target[item], dtype=torch.long)}"
   ]
  },
  {
   "cell_type": "code",
   "execution_count": 9,
   "metadata": {
    "colab": {},
    "colab_type": "code",
    "id": "4NVlWc-o8Qjh"
   },
   "outputs": [],
   "source": [
    "def score_to_sents(score):\n",
    "    if score <= 2:\n",
    "        return 0\n",
    "    if score == 3:\n",
    "        return 1\n",
    "    return 2"
   ]
  },
  {
   "cell_type": "code",
   "execution_count": 10,
   "metadata": {},
   "outputs": [],
   "source": [
    "def create_data_loader(df, tokenizer, max_len, batch_size):\n",
    "    dataset = ReviewsDataset(\n",
    "        review=df.content.to_numpy(),\n",
    "        target=df.sentiment.to_numpy(),\n",
    "        tokenizer=tokenizer,\n",
    "        max_len=max_len)\n",
    "    \n",
    "    return data.DataLoader(dataset, batch_size=batch_size, num_workers=4)"
   ]
  },
  {
   "cell_type": "code",
   "execution_count": 11,
   "metadata": {},
   "outputs": [],
   "source": [
    "def train_epoch(\n",
    "    model,\n",
    "    data_loader,\n",
    "    criterion,\n",
    "    optimizer,\n",
    "    scheduler,\n",
    "    n_examples,\n",
    "    device\n",
    "):\n",
    "    model.train()\n",
    "    losses = []\n",
    "    correct_preds = 0\n",
    "    \n",
    "    for i, d in enumerate(data_loader):\n",
    "        if i % 50 == 0:\n",
    "            print(f'batch {i + 1}/ {len(data_loader)}')\n",
    "        input_ids = d['input_ids'].to(device)\n",
    "        attention_mask = d['attention_mask'].to(device)\n",
    "        targets = d['targets'].to(device)\n",
    "        \n",
    "        outputs = model(\n",
    "            input_ids=input_ids,\n",
    "            attention_mask=attention_mask\n",
    "        )\n",
    "        \n",
    "        _, pred = torch.max(outputs, dim=1)\n",
    "        \n",
    "        loss = criterion(outputs, targets)\n",
    "        correct_preds += torch.sum(pred == targets)\n",
    "        losses.append(loss.item())\n",
    "        \n",
    "        loss.backward()\n",
    "        nn.utils.clip_grad_norm_(model.parameters(), max_norm=1.0)\n",
    "        optimizer.step()\n",
    "        scheduler.step()\n",
    "        optimizer.zero_grad()\n",
    "    return correct_preds.double() / n_examples, np.mean(losses)"
   ]
  },
  {
   "cell_type": "code",
   "execution_count": 12,
   "metadata": {},
   "outputs": [],
   "source": [
    "def eval_model(\n",
    "    model,\n",
    "    data_loader,\n",
    "    criterion,\n",
    "    n_examples,\n",
    "    device\n",
    "):\n",
    "    print('evaluation')\n",
    "    model = model.eval()\n",
    "    correct_preds = 0\n",
    "    losses = []\n",
    "    \n",
    "    with torch.no_grad():\n",
    "        for i, d in enumerate(data_loader):\n",
    "            if i % 50 == 0:\n",
    "                print(f'batch {i + 1}/ {len(data_loader)}')\n",
    "            input_ids = d['input_ids'].to(device)\n",
    "            attention_mask = d['attention_mask'].to(device)\n",
    "            targets = d['targets'].to(device)\n",
    "            \n",
    "            outputs = model(\n",
    "                input_ids=input_ids,\n",
    "                attention_mask=attention_mask\n",
    "            )\n",
    "            \n",
    "            _, pred = torch.max(outputs, dim=1)\n",
    "\n",
    "            loss = criterion(outputs, targets)\n",
    "            correct_preds += torch.sum(pred == targets)\n",
    "            losses.append(loss.item())\n",
    "    return correct_preds.double() / n_examples, np.mean(losses)"
   ]
  },
  {
   "cell_type": "code",
   "execution_count": 13,
   "metadata": {},
   "outputs": [],
   "source": [
    "def eval_on_test(model_path, data_loader, n_examples):\n",
    "    model = BertSentimentClassifier(3).to(device)\n",
    "    model.load_state_dict(torch.load(model_path))\n",
    "    model.eval()\n",
    "\n",
    "    correct_preds = 0\n",
    "\n",
    "    with torch.no_grad():\n",
    "        for i, d in enumerate(data_loader):\n",
    "            if i % 50 == 0:\n",
    "                print(f'batch {i + 1}/ {len(data_loader)}')\n",
    "\n",
    "            input_ids = d['input_ids'].to(device)\n",
    "            attention_mask = d['attention_mask'].to(device)\n",
    "            targets = d['targets'].to(device)\n",
    "\n",
    "            outputs = model(\n",
    "                input_ids=input_ids,\n",
    "                attention_mask=attention_mask\n",
    "            )\n",
    "\n",
    "            _, pred = torch.max(outputs, dim=1)\n",
    "            correct_preds += torch.sum(pred == targets)\n",
    "    return correct_preds.double() / n_examples"
   ]
  },
  {
   "cell_type": "code",
   "execution_count": 14,
   "metadata": {},
   "outputs": [],
   "source": [
    "def train_sentiment_analysis_model(context: MLClientCtx, \n",
    "                                   reviews_dataset: DataItem,\n",
    "                                   pretrained_model: str = 'bert-base-cased', \n",
    "                                   models_dir: str = 'models',\n",
    "                                   model_filename: str = 'bert_sentiment_analysis_model.pt',\n",
    "                                   MAX_LEN: int = 128,\n",
    "                                   BATCH_SIZE: int = 16,\n",
    "                                   EPOCHS: int = 50,\n",
    "                                   random_state: int = 42):\n",
    "\n",
    "    # Check for CPU or GPU \n",
    "    device = torch.device('cuda:0') if torch.cuda.is_available() else torch.device('cpu')\n",
    "    base_path = os.path.abspath('..')\n",
    "    plots_path = os.path.join(base_path, 'plots')\n",
    "    context.logger.info(f'Using {device}')\n",
    "    \n",
    "    models_basepath = os.path.join(context.artifact_path, models_dir)\n",
    "    os.makedirs(models_basepath, exist_ok=True)\n",
    "    model_filepath = os.path.join(models_basepath, model_filename)\n",
    "    \n",
    "    # Get dataset\n",
    "    df = reviews_dataset.as_df()\n",
    "    \n",
    "    # Save score plot\n",
    "    df = df[['content', 'score']]\n",
    "    sns.distplot(df.score)\n",
    "    context.log_artifact(PlotArtifact(f\"reviews-scores\", body=plt.gcf()),\n",
    "                         target_path=f\"{plots_path}/reviews-scores.html\")\n",
    "    \n",
    "    # Turn scores to sentiment label\n",
    "    df['sentiment'] = df['score'].apply(score_to_sents)\n",
    "    \n",
    "    # Load bert tokenizer\n",
    "    tokenizer = BertTokenizer.from_pretrained(pretrained_model)\n",
    "    \n",
    "    # Tokenize reviews\n",
    "    lens = [len(tokenizer.encode(df.loc[review]['content'])) for review in df.index]\n",
    "    max_length = max(lens)\n",
    "    context.logger.info(f'longest review: {max_length}')\n",
    "    plt.clf()\n",
    "    sns.distplot(lens)\n",
    "    context.log_artifact(PlotArtifact(f\"reviews-lengths\", body=plt.gcf()),\n",
    "                         target_path=f\"{plots_path}/reviews-lengths.html\")\n",
    "    \n",
    "    # Create training and validation datasets\n",
    "    df_train, df_test = train_test_split(df, test_size=0.2, random_state=random_state)\n",
    "    df_dev, df_test = train_test_split(df_test, test_size = 0.5, random_state=random_state)\n",
    "    \n",
    "    # Create dataloaders for all datasets\n",
    "    train_loader = create_data_loader(df_train, tokenizer, MAX_LEN, BATCH_SIZE)\n",
    "    dev_loader = create_data_loader(df_dev, tokenizer, MAX_LEN, BATCH_SIZE)\n",
    "    test_loader = create_data_loader(df_test, tokenizer, MAX_LEN, BATCH_SIZE)\n",
    "    \n",
    "    # Load the bert sentiment classifier base\n",
    "    model = BertSentimentClassifier(pretrained_model, n_classes=3).to(device)\n",
    "    \n",
    "    # training\n",
    "    optimizer = AdamW(model.parameters(), lr=2e-5, correct_bias=False)\n",
    "    total_steps = len(train_loader) * EPOCHS\n",
    "    scheduler = get_linear_schedule_with_warmup(optimizer=optimizer, num_warmup_steps=0, num_training_steps=total_steps)\n",
    "    criterion = nn.CrossEntropyLoss().to(device)\n",
    "    \n",
    "    history = defaultdict(list)\n",
    "    best_acc = 0\n",
    "\n",
    "    context.logger.info('Started training the model')\n",
    "    for epoch in range(EPOCHS):\n",
    "        train_acc, train_loss = train_epoch(\n",
    "            model,\n",
    "            train_loader,\n",
    "            criterion,\n",
    "            optimizer,\n",
    "            scheduler,\n",
    "            len(df_train),\n",
    "            device\n",
    "        )\n",
    "        \n",
    "        dev_acc, dev_loss = eval_model(\n",
    "            model,\n",
    "            dev_loader,\n",
    "            criterion,\n",
    "            len(df_dev),\n",
    "            device\n",
    "        )\n",
    "\n",
    "        # Append results to history\n",
    "        history['train_acc'].append(train_acc)\n",
    "        history['train_loss'].append(train_loss)\n",
    "        history['dev_acc'].append(dev_acc)\n",
    "        history['dev_loss'].append(dev_loss)\n",
    "        context.logger.info(f'Epoch: {epoch + 1}/{EPOCHS}: Train loss: {train_loss}, accuracy: {train_acc} Val loss: {dev_loss}, accuracy: {dev_acc}')\n",
    "\n",
    "        if dev_acc > best_acc:\n",
    "            torch.save(model.state_dict(), model_filepath)\n",
    "            context.logger.info(f'Updating model, Current models is better then the previous one ({best_acc} vs. {dev_acc}).')\n",
    "            best_acc = dev_acc\n",
    "        chart = ChartArtifact('summary.html')\n",
    "        chart.header = ['epoch', 'accuracy', 'val_accuracy', 'loss', 'val_loss']\n",
    "        for i in range(EPOCHS):\n",
    "            chart.add_row([i + 1, history.history['train_acc'][i],\n",
    "                           history['train_loss'][i],\n",
    "                           history['dev_acc'][i],\n",
    "                           history['dev_loss'][i]])\n",
    "        summary = context.log_artifact(chart, target_path=f\"{plots_path}/training-summary.html\")\n",
    "        \n",
    "        test_acc = eval_on_test('model.pt', test_loader, len(df_test))\n",
    "        context.logger.info(f'Received {test_acc} on test dataset')\n",
    "        context.log_model(key='bert_sentiment_analysis_model',\n",
    "                          model_file=model_filepath,\n",
    "                          metrics={'train_accuracy': train_acc,\n",
    "                                   'train_loss': train_loss,\n",
    "                                   'best_acccuracy': best_acc,\n",
    "                                   'validation_accuracy': dev_acc,\n",
    "                                   'validation_loss': dev_loss},\n",
    "                          parameters={'pretrained_model': pretrained_model,\n",
    "                                      'MAX_LEN': MAX_LEN,\n",
    "                                      'BATCH_SIZE': BATCH_SIZE,\n",
    "                                      'EPOCHS': EPOCHS,\n",
    "                                      'random_state': random_state},\n",
    "                          extra_data={'reviews_length': f\"{plots_path}/reviews-lengths.html\",\n",
    "                                      'training_history': history})\n",
    "    "
   ]
  },
  {
   "cell_type": "code",
   "execution_count": 15,
   "metadata": {},
   "outputs": [],
   "source": [
    "#nuclio: end-code"
   ]
  },
  {
   "cell_type": "markdown",
   "metadata": {},
   "source": [
    "## Test locally"
   ]
  },
  {
   "cell_type": "code",
   "execution_count": 16,
   "metadata": {},
   "outputs": [],
   "source": [
    "from mlrun import code_to_function, mount_v3io, run_local, NewTask\n",
    "\n",
    "reviews_datafile = os.path.join(os.path.abspath('..'), 'data', 'reviews.csv')\n",
    "pretrained_model = 'bert-base-cased'\n",
    "\n",
    "task = NewTask(params={'pretrained_model': pretrained_model,\n",
    "                       'EPOCHS': 1},\n",
    "               inputs={'reviews_dataset': reviews_datafile})\n",
    "# lrun = run_local(task, handler=train_sentiment_analysis_model)"
   ]
  },
  {
   "cell_type": "markdown",
   "metadata": {},
   "source": [
    "## Deploy to cluster"
   ]
  },
  {
   "cell_type": "code",
   "execution_count": 29,
   "metadata": {},
   "outputs": [
    {
     "data": {
      "text/plain": [
       "<mlrun.runtimes.kubejob.KubejobRuntime at 0x7f02f1fb3b00>"
      ]
     },
     "execution_count": 29,
     "metadata": {},
     "output_type": "execute_result"
    }
   ],
   "source": [
    "fn = code_to_function(name='train_sentiment_analysis',\n",
    "                      project='stocks',\n",
    "                      kind='job',\n",
    "                      image='mlrun/ml-models-gpu',\n",
    "                      handler='train_sentiment_analysis_model')\n",
    "fn.gpus(1)\n",
    "fn.apply(mount_v3io())"
   ]
  },
  {
   "cell_type": "code",
   "execution_count": null,
   "metadata": {},
   "outputs": [
    {
     "name": "stdout",
     "output_type": "stream",
     "text": [
      "> 2020-09-13 14:00:44,872 [info] starting run train-sentiment-analysis-train_sentiment_analysis_model uid=5ee470ffb9a442a0bf25478d0309f4cd  -> http://mlrun-api:8080\n",
      "> 2020-09-13 14:00:45,026 [info] Job is running in the background, pod: train-sentiment-analysis-train-sentiment-analysis-model-qnrwr\n",
      "Downloading: 100%|██████████| 213k/213k [00:00<00:00, 508kB/s]  \n",
      "Token indices sequence length is longer than the specified maximum sequence length for this model (518 > 512). Running this sequence through the model will result in indexing errors\n",
      "Token indices sequence length is longer than the specified maximum sequence length for this model (518 > 512). Running this sequence through the model will result in indexing errors\n",
      "Downloading: 100%|██████████| 433/433 [00:00<00:00, 226kB/s]\n",
      "Downloading: 100%|██████████| 436M/436M [00:12<00:00, 33.5MB/s] \n"
     ]
    }
   ],
   "source": [
    "run = fn.with_code().run(task, artifact_path=os.path.abspath('../'))"
   ]
  },
  {
   "cell_type": "code",
   "execution_count": 70,
   "metadata": {},
   "outputs": [
    {
     "data": {
      "text/plain": [
       "{}"
      ]
     },
     "execution_count": 70,
     "metadata": {},
     "output_type": "execute_result"
    }
   ],
   "source": [
    ".run.outputs"
   ]
  }
 ],
 "metadata": {
  "colab": {
   "collapsed_sections": [],
   "name": "Copy of bert_sentiment_classification.ipynb",
   "provenance": [],
   "toc_visible": true
  },
  "kernelspec": {
   "display_name": "Python 3",
   "language": "python",
   "name": "python3"
  },
  "language_info": {
   "codemirror_mode": {
    "name": "ipython",
    "version": 3
   },
   "file_extension": ".py",
   "mimetype": "text/x-python",
   "name": "python",
   "nbconvert_exporter": "python",
   "pygments_lexer": "ipython3",
   "version": "3.6.8"
  }
 },
 "nbformat": 4,
 "nbformat_minor": 4
}
