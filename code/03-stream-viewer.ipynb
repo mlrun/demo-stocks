{
 "cells": [
  {
   "cell_type": "markdown",
   "metadata": {},
   "source": [
    "# Real-Time Stream Viewer (HTTP)\n",
    "the following function responds to HTTP requests with the list of last 10 processed twitter messages + sentiments in reverse order (newest on top), it reads records from the enriched stream, take the recent 10 messages, and reverse sort them. the function is using nuclio context to store the last results and stream pointers for max efficiency.<br> \n",
    "\n",
    "The code is automatically converted into a nuclio (serverless) function and and respond to HTTP requests<br>\n",
    "\n",
    "the example demonstrate the use of `%nuclio` magic commands to specify environment variables, package dependencies,<br>configurations, and to deploy functions automatically onto a cluster.\n",
    "\n",
    "\n",
    "## Initialize nuclio emulation, environment variables and configuration\n",
    "use `# nuclio: ignore` for sections that don't need to be copied to the function"
   ]
  },
  {
   "cell_type": "code",
   "execution_count": 1,
   "metadata": {},
   "outputs": [],
   "source": [
    "# nuclio: ignore\n",
    "# if the nuclio-jupyter package is not installed run !pip install nuclio-jupyter\n",
    "import nuclio "
   ]
  },
  {
   "cell_type": "code",
   "execution_count": 2,
   "metadata": {},
   "outputs": [],
   "source": [
    "%nuclio env -c V3IO_ACCESS_KEY=${V3IO_ACCESS_KEY}\n",
    "%nuclio env -c V3IO_USERNAME=${V3IO_USERNAME}\n",
    "%nuclio env -c V3IO_API=${V3IO_API}"
   ]
  },
  {
   "cell_type": "markdown",
   "metadata": {},
   "source": [
    "### Set function configuration \n",
    "use a cron trigger with 5min interval and define the base image<br>\n",
    "for more details check [nuclio function configuration reference](https://github.com/nuclio/nuclio/blob/master/docs/reference/function-configuration/function-configuration-reference.md)"
   ]
  },
  {
   "cell_type": "code",
   "execution_count": 3,
   "metadata": {},
   "outputs": [
    {
     "name": "stdout",
     "output_type": "stream",
     "text": [
      "%nuclio: setting spec.build.baseImage to 'mlrun/mlrun'\n"
     ]
    }
   ],
   "source": [
    "%%nuclio config \n",
    "kind = \"nuclio\"\n",
    "spec.build.baseImage = \"mlrun/mlrun\""
   ]
  },
  {
   "cell_type": "markdown",
   "metadata": {},
   "source": [
    "### Install required packages\n",
    "`%nuclio cmd` allows you to run image build instructions and install packages<br>\n",
    "Note: `-c` option will only install in nuclio, not locally"
   ]
  },
  {
   "cell_type": "code",
   "execution_count": 4,
   "metadata": {},
   "outputs": [],
   "source": [
    "%nuclio cmd -c pip install v3io"
   ]
  },
  {
   "cell_type": "markdown",
   "metadata": {},
   "source": [
    "## Nuclio function implementation\n",
    "this function can run in Jupyter or in nuclio (real-time serverless)"
   ]
  },
  {
   "cell_type": "code",
   "execution_count": 5,
   "metadata": {},
   "outputs": [],
   "source": [
    "import v3io.dataplane\n",
    "import json\n",
    "import os\n",
    "\n",
    "def init_context(context):\n",
    "    access_key = os.getenv('V3IO_ACCESS_KEY', None)\n",
    "    setattr(context, 'container', os.getenv('V3IO_CONTAINER', 'bigdata'))\n",
    "    setattr(context, 'stream_path', os.getenv('STOCKS_STREAM', 'stocks/stocks_stream'))\n",
    "    \n",
    "    v3io_client = v3io.dataplane.Client(endpoint=os.getenv('V3IO_API', None), access_key=access_key)\n",
    "    setattr(context, 'data', [])\n",
    "    setattr(context, 'v3io_client', v3io_client) \n",
    "    setattr(context, 'limit', os.getenv('LIMIT', 10))\n",
    "    try:\n",
    "        resp = v3io_client.seek_shard(container=context.container, path=f'{context.stream_path}/0', seek_type='EARLIEST')\n",
    "        setattr(context, 'next_location', resp.output.location)\n",
    "    except:\n",
    "        context.logger.info('Stream not updated yet')\n",
    "    \n",
    "\n",
    "    \n",
    "def handler(context, event):\n",
    "    \n",
    "    if hasattr(context, 'next_location'):\n",
    "        resp = context.v3io_client.get_records(container=context.container, path=f'{context.stream_path}/0', location=context.next_location, limit=context.limit)\n",
    "    else:\n",
    "        resp = context.v3io_client.seek_shard(container=context.container, path=f'{context.stream_path}/0', seek_type='EARLIEST')\n",
    "        setattr(context, 'next_location', resp.output.location)\n",
    "    context.next_location = resp.output.next_location\n",
    "    context.logger.info('location: %s', context.next_location)\n",
    "\n",
    "    for rec in resp.output.records:\n",
    "        rec_data = rec.data.decode('utf-8')\n",
    "        rec_json = json.loads(rec_data)\n",
    "        context.data.append({'Time': rec_json['time'],\n",
    "                             'Symbol': rec_json['symbol'],\n",
    "                             'Sentiment': rec_json['sentiment'],\n",
    "                             'Link': rec_json['link'],\n",
    "                             'Content': rec_json['content']})\n",
    "\n",
    "    context.data = context.data[-context.limit:]\n",
    "    \n",
    "    columns = [{'text': key, 'type': 'object'} for key in ['Time', 'Symbol', 'Sentiment', 'Link', 'Content']]\n",
    "    data = [list(item.values()) for item in context.data]\n",
    "    response = [{'columns': columns,\n",
    "                'rows': data,\n",
    "                'type': 'table'}]\n",
    "\n",
    "    return response\n",
    "                            "
   ]
  },
  {
   "cell_type": "code",
   "execution_count": 6,
   "metadata": {},
   "outputs": [],
   "source": [
    "# nuclio: end-code"
   ]
  },
  {
   "cell_type": "markdown",
   "metadata": {},
   "source": [
    "## Function invocation\n",
    "the following section simulates nuclio function invocation and will emit the function results"
   ]
  },
  {
   "cell_type": "code",
   "execution_count": 7,
   "metadata": {},
   "outputs": [
    {
     "name": "stdout",
     "output_type": "stream",
     "text": [
      "Python> 2020-10-07 14:00:36,471 [info] location: AQAAAGUAAAAnA0BRFgAAAA==\n"
     ]
    },
    {
     "data": {
      "text/plain": [
       "[{'columns': [{'text': 'Time', 'type': 'object'},\n",
       "   {'text': 'Symbol', 'type': 'object'},\n",
       "   {'text': 'Sentiment', 'type': 'object'},\n",
       "   {'text': 'Link', 'type': 'object'},\n",
       "   {'text': 'Content', 'type': 'object'}],\n",
       "  'rows': [['2020-09-30 20:25:40',\n",
       "    'AMZN',\n",
       "    -0.5384615384615384,\n",
       "    'https://www.investing.com/news/stock-market-news/fcc-commissioner-calls-for-new-scrutiny-of-undersea-data-cables-2312181',\n",
       "    'By David Shepardson\\nWASHINGTON (Reuters) - A member of the U.S. Federal Communications Commission on Wednesday called for new scrutiny of undersea cables that transmit nearly all the world s internet data traffic.\\n\"We must take a closer look at cables with landing locations in adversary countries,\" FCC Commissioner Geoffrey Starks said Wednesday at a commission meeting. \"This includes the four existing submarine cables connecting the US and China, most of which are partially owned by Chinese state-owned companies.\"\\nThe United States has repeatedly expressed concerns about China’s role in handling network traffic and potential for espionage. Around 300 subsea cables form the backbone of the internet, carrying 99% of the world’s data traffic.\\nStarks said the FCC \"must ensure that adversary countries and other hostile actors can’t tamper with, block, or intercept the communications they carry.\"\\nIn April, the FCC approved Alphabet Inc unit Google s  request to use part of an U.S.-Asia undersea telecommunications cable, but not to Hong Kong, after U.S. agencies raised national security concerns.\\nGoogle agreed to operate a portion of the 8,000-mile Pacific Light Cable Network System between the United States and Taiwan, but not Hong Kong. Google and Facebook  helped pay for construction of the completed link but U.S. regulators blocked its use.\\nThe companies in August abandoned the proposal to use the Hong Kong portion. A Facebook affiliate has sought FCC approval to use a portion of the cable connecting the Philippines and United States.\\nStarks noted that on Sept 10, Facebook, Amazon.com Inc  and China Mobile (HK:0941) withdrew their application to connect San Francisco and Hong Kong as part of the Bay to Bay Express Cable System.\\nThe companies told the FCC they would work to secure a license \"for a reconfigured system\" acceptable to the Trump administration.\\nThe FCC in April denied China Mobile  s application to operate in the United States. \"The concerns aren’t just about the landing sites of the cables but who owns and operates them,\" Starks added.\\n\\nThe FCC said in April it might shut down U.S. operations of three state-controlled Chinese telecommunications companies -- China Telecom  Americas, China Unicom  Americas, Pacific Networks Corp and its wholly owned subsidiary ComNet (USA) LLC. FCC Chairman Ajit Pai declined to say Wednesday when the commission may take action.'],\n",
       "   ['2020-09-30 20:13:26',\n",
       "    'AMZN',\n",
       "    -0.38461538461538464,\n",
       "    'https://www.investing.com/news/stock-market-news/dow-shrugs-off-stimulus-uncertainty-to-close-higher-but-ends-5month-win-streak-2312160',\n",
       "    'By Yasin Ebrahim\\nInvesting.com – The Dow snapped a five-month winning streak despite closing higher Wednesday, amid uncertainty over further stimulus after U.S. lawmakers failed to reach an agreement on a deal but pledged to continue talks. \\nThe Dow Jones Industrial Average added 1.20% or 329 points after rising about 570 points intraday. The S&P 500 was up 0.83%, while the Nasdaq Composite rose 0.74%.\\nU.S. Treasury Secretary Steven Mnuchin touted progress on stimulus talks, though said he had yet to reach an agreement with House Speaker Nancy Pelosi on a coronavirus aid package. The House expected to vote on the $2.2 trillion package on Wednesday.  Ahead of his meeting with Pelosi, Mnuchin told CNBC he was \"hopeful\" about getting a deal done.\\nThe news cooled some investor optimism on stocks tied to the progress of the economy with airlines, cruise operators and banks cutting gains.  Airlines stand to lose big if Congress fails to reach an agreement on the proposed $2.2 trillion aid package that includes funds for the industry as well as unemployment benefits, direct payments to households and small business loans.\\n Citigroup   rose more than 1%, United Airlines  was up 0.5% and Norwegian Cruise Line Holdings  was up  3%.\\nThe latest news on stimulus talks overshadowed a trio of bullish economic reports seen earlier.\\nThe private sector created 749,000 jobs in September, according to ADP data on Wednesday, topping economists  expectations for a gain of the 650,000.\\n\"We look for an 950K increase in Friday’s private payroll number, slowing marginally from 1,027K in August and 1,481K in July.  But this is far from certain, given the deviation between the ADP and official numbers since Covid struck,\" Pantheon Macroeconomics said in a note.\\nThe housing market, meanwhile, remained robust as the National Association of Realtors survey showed pending home sales increased a record pace of 8.8% last month.\\nHomebuilders were sharply higher following the survey, with SPDR® S&P Homebuilders ETF  up more than 1%, led by  Lennar  , up more than 3%.\\nOn the manufacturing front, Chicago PMI jumped to 62.4 from 51.2, markedly topping estimates of 52.\\nTech also cut gains but remained among the biggest gainers. Apple  and Microsoft , Alphabet  and Amazon.com  traded above the flatline. Facebook  ended flat.'],\n",
       "   ['2020-09-30 19:32:03',\n",
       "    'AMZN',\n",
       "    -0.38461538461538464,\n",
       "    'https://www.investing.com/news/stock-market-news/dow-rides-tech-consumer-stocks-higher-as-mnuchin-stokes-stimulus-hopes-2311978',\n",
       "    'By Yasin Ebrahim\\nInvesting.com – The Dow cut some gains Wednesday, after U.S. lawmakers failed to reach an agreement on another coronavirus stimulus package, but pledged to continue talks. \\nThe Dow Jones Industrial Average added 0.91% or 250 points after rising about 570 points. The S&P 500 was up 0.38%, while the Nasdaq Composite rose 0.36%.\\nInvestor hopes for further federal stimulus were dealt a blow somewhat after U.S. Treasury Secretary Steven Mnuchin touted progress on stimulus talks, but said they had yet to reach an agreement. The talks are set to continue with the House expected to vote on the $2.2 trillion package on Wednesday.  Ahead of his meeting with House Speaker Nanci Pelosi, Mnuchin told CNBC he was \"hopeful\" about getting a deal done.\\nThe news cooled some optimism on stocks tied to the progress of the economy with airlines, cruise operators and banks cutting gains.  Airlines stand to lose big if Congress fails to reach an agreement on the proposed $2.2 trillion aid package that includes funds for the industry as well as unemployment benefits, direct payments to households and small business loans.\\n Citigroup   rose more than 1%, United Airlines  was up 0.5% and Norwegian Cruise Line Holdings  was up  3%.\\nThe somewhat dour news on the stimulus offset a trio of bullish economic reports seen earlier.\\nThe private sector created 749,000 jobs in September, according to ADP data on Wednesday, topping economists  expectations for a gain of the 650,000.\\n\"We look for an 950K increase in Friday’s private payroll number, slowing marginally from 1,027K in August and 1,481K in July.  But this is far from certain, given the deviation between the ADP and official numbers since Covid struck,\" Pantheon Macroeconomics said in a note.\\nThe housing market, meanwhile, remained robust as the National Association of Realtors survey showed pending home sales increased a record pace of 8.8% last month.\\nHomebuilders were sharply higher following the survey, with SPDR® S&P Homebuilders ETF  up more than 1%, led by  Lennar  , up more than 3%.\\nOn the manufacturing front, Chicago PMI jumped to 62.4 from 51.2, markedly topping estimates of 52.\\nTech also cut gains but remained among the biggest gainers. Apple  and Microsoft  and Alphabet  traded above the flatline, while Amazon.com  and Facebook  fell into the red.'],\n",
       "   ['2020-09-30 16:50:41',\n",
       "    'AMZN',\n",
       "    -0.5882352941176471,\n",
       "    'https://www.investing.com/news/world-news/bidens-criticism-of-amazon-deforestation-draws-swift-reaction-in-brazil-2311761',\n",
       "    'By Jake Spring\\nBRASILIA (Reuters) - Brazilian President Jair Bolsonaro reacted angrily on Wednesday to U.S. Democratic presidential candidate Joe Biden s call for a world effort to offer Brazil $20 billion to end Amazon  deforestation or face unspecified \"economic consequences.\"\\nBolsonaro wrote on Facebook  he interpreted Biden s comment in a U.S. presidential debate on Tuesday night as a threat of economic sanctions if Brazil did not take the offer. \\nBolsonaro wrote in Portuguese and English that he does not accept \"bribes\" or \"coward threats.\" \\nThe president said Brazil was taking action on deforestation and reasserted that he views foreign interest in the Amazon as financially motivated and an attempt to undermine Brazilian sovereignty.\\n\"The greed of some countries towards the Amazon is a well-known fact,\" Bolsonaro said. \\n\"However, the explicit demonstration of this greed by someone who is running for the presidency of his country is a clear sign of contempt for cordial and fruitful coexistence between two sovereign nations.\"\\nIn November s U.S. election, Biden is challenging Republican President Donald Trump. Bolsonaro openly admires Trump and has sought to ally Brazil with the Trump administration, with the two leaders seeking to deepen trade ties.\\nIn Tuesday s heated debate, Biden said Brazil provided an example of how Trump \"has no relationship with foreign policy.\"\\n\"The rainforests of Brazil are being torn down,\" Biden said.\\n\"I would be gathering up and making sure we had the countries of the world coming up with $20 billion, and say,  Here s $20 billion. Stop tearing down the forest. And if you don t then you re gonna have significant economic consequences. \"\\nOfficial data show that an area roughly the size of Lebanon was deforested in Brazil s Amazon for 2019, an 11-year high, with preliminary government data for 2020 showing forest clearances up 34.5%.\\nBolsonaro s right-wing government maintains that Brazil is a model of conservation because of the size of forest land still standing. \\nBrazil has repeatedly said the world should pay up if it wants more forest to be preserved. Brazilian Environment Minister Ricardo Salles reacted on Twitter to Biden s offer of funding, writing: \"Just one question: Biden s $20 billion in aid, is that yearly?\".\\nBolsonaro ended his statement in English by calling Joe Biden by the wrong first name.\\n\\n\"What a shame, Mr. John Biden! What a shame!\"'],\n",
       "   ['2020-10-01 08:45:07',\n",
       "    'AAPL',\n",
       "    -0.75,\n",
       "    'https://www.investing.com/news/technology-news/india-plans-launch-of-own-app-store-as-alternative-to-google-apple-et-now-2312599',\n",
       "    'BENGALURU (Reuters) - India is planning to launch its own app store as an alternate to the ones offered by Apple  and Alphabet-owned Google , in a bid to make the country more self-reliant, ET Now reported on Thursday, citing government sources.\\nPrime Minister Narendra Modi s government may ramp up its Mobile Seva App Store for this purpose, the television channel reported, without providing further details.\\n\"Android has a 97% market-share in India. So, we should intervene and handhold Indian startups,\" ET Now quoted government sources as saying, adding that the store would not charge the 30% fee to host apps unlike Google or Apple.\\nThe government is also considering a plan to make it mandatory for Android phones to be pre-installed with its apps, as per the channel s report. '],\n",
       "   ['2020-09-30 21:05:22',\n",
       "    'AAPL',\n",
       "    -0.4,\n",
       "    'https://www.investing.com/news/technology-news/alphabet-incs-google-launches-google-tv-new-chromecast-2312066',\n",
       "    '(Reuters) - Alphabet Inc s  Google on Wednesday launched Google TV, which would show content from streaming services including Netflix Inc  and Walt  Disney  Co s  Disney+. \\nThe tech giant also unveiled a new Chromecast streaming device that will now come with a remote control. It will cost $49.99 in the United States and will be available in other countries by the end of the year.\\nIn addition, Google also introduced 5G-enabled phone Pixel 5, with a starting price of $699. \\n\\nEarlier in August, Google launched its first 5G-enabled phone, Pixel 4a (5G), with a starting price of $499, and also introduced a non-5G version of 4a at $349, looking to broaden its appeal among budget-conscious customers.While Google s lower-priced devices have been top sellers, its higher-priced phones have gained little traction versus those from industry leaders such as Samsung Electronics Co (KS:005930) and Apple  because of limited marketing and stiff competition.'],\n",
       "   ['2020-09-30 20:13:26',\n",
       "    'AAPL',\n",
       "    -0.38461538461538464,\n",
       "    'https://www.investing.com/news/stock-market-news/dow-shrugs-off-stimulus-uncertainty-to-close-higher-but-ends-5month-win-streak-2312160',\n",
       "    'By Yasin Ebrahim\\nInvesting.com – The Dow snapped a five-month winning streak despite closing higher Wednesday, amid uncertainty over further stimulus after U.S. lawmakers failed to reach an agreement on a deal but pledged to continue talks. \\nThe Dow Jones Industrial Average added 1.20% or 329 points after rising about 570 points intraday. The S&P 500 was up 0.83%, while the Nasdaq Composite rose 0.74%.\\nU.S. Treasury Secretary Steven Mnuchin touted progress on stimulus talks, though said he had yet to reach an agreement with House Speaker Nancy Pelosi on a coronavirus aid package. The House expected to vote on the $2.2 trillion package on Wednesday.  Ahead of his meeting with Pelosi, Mnuchin told CNBC he was \"hopeful\" about getting a deal done.\\nThe news cooled some investor optimism on stocks tied to the progress of the economy with airlines, cruise operators and banks cutting gains.  Airlines stand to lose big if Congress fails to reach an agreement on the proposed $2.2 trillion aid package that includes funds for the industry as well as unemployment benefits, direct payments to households and small business loans.\\n Citigroup   rose more than 1%, United Airlines  was up 0.5% and Norwegian Cruise Line Holdings  was up  3%.\\nThe latest news on stimulus talks overshadowed a trio of bullish economic reports seen earlier.\\nThe private sector created 749,000 jobs in September, according to ADP data on Wednesday, topping economists  expectations for a gain of the 650,000.\\n\"We look for an 950K increase in Friday’s private payroll number, slowing marginally from 1,027K in August and 1,481K in July.  But this is far from certain, given the deviation between the ADP and official numbers since Covid struck,\" Pantheon Macroeconomics said in a note.\\nThe housing market, meanwhile, remained robust as the National Association of Realtors survey showed pending home sales increased a record pace of 8.8% last month.\\nHomebuilders were sharply higher following the survey, with SPDR® S&P Homebuilders ETF  up more than 1%, led by  Lennar  , up more than 3%.\\nOn the manufacturing front, Chicago PMI jumped to 62.4 from 51.2, markedly topping estimates of 52.\\nTech also cut gains but remained among the biggest gainers. Apple  and Microsoft , Alphabet  and Amazon.com  traded above the flatline. Facebook  ended flat.'],\n",
       "   ['2020-09-30 19:32:03',\n",
       "    'AAPL',\n",
       "    -0.38461538461538464,\n",
       "    'https://www.investing.com/news/stock-market-news/dow-rides-tech-consumer-stocks-higher-as-mnuchin-stokes-stimulus-hopes-2311978',\n",
       "    'By Yasin Ebrahim\\nInvesting.com – The Dow cut some gains Wednesday, after U.S. lawmakers failed to reach an agreement on another coronavirus stimulus package, but pledged to continue talks. \\nThe Dow Jones Industrial Average added 0.91% or 250 points after rising about 570 points. The S&P 500 was up 0.38%, while the Nasdaq Composite rose 0.36%.\\nInvestor hopes for further federal stimulus were dealt a blow somewhat after U.S. Treasury Secretary Steven Mnuchin touted progress on stimulus talks, but said they had yet to reach an agreement. The talks are set to continue with the House expected to vote on the $2.2 trillion package on Wednesday.  Ahead of his meeting with House Speaker Nanci Pelosi, Mnuchin told CNBC he was \"hopeful\" about getting a deal done.\\nThe news cooled some optimism on stocks tied to the progress of the economy with airlines, cruise operators and banks cutting gains.  Airlines stand to lose big if Congress fails to reach an agreement on the proposed $2.2 trillion aid package that includes funds for the industry as well as unemployment benefits, direct payments to households and small business loans.\\n Citigroup   rose more than 1%, United Airlines  was up 0.5% and Norwegian Cruise Line Holdings  was up  3%.\\nThe somewhat dour news on the stimulus offset a trio of bullish economic reports seen earlier.\\nThe private sector created 749,000 jobs in September, according to ADP data on Wednesday, topping economists  expectations for a gain of the 650,000.\\n\"We look for an 950K increase in Friday’s private payroll number, slowing marginally from 1,027K in August and 1,481K in July.  But this is far from certain, given the deviation between the ADP and official numbers since Covid struck,\" Pantheon Macroeconomics said in a note.\\nThe housing market, meanwhile, remained robust as the National Association of Realtors survey showed pending home sales increased a record pace of 8.8% last month.\\nHomebuilders were sharply higher following the survey, with SPDR® S&P Homebuilders ETF  up more than 1%, led by  Lennar  , up more than 3%.\\nOn the manufacturing front, Chicago PMI jumped to 62.4 from 51.2, markedly topping estimates of 52.\\nTech also cut gains but remained among the biggest gainers. Apple  and Microsoft  and Alphabet  traded above the flatline, while Amazon.com  and Facebook  fell into the red.'],\n",
       "   ['2020-09-30 12:15:45',\n",
       "    'AAPL',\n",
       "    -0.4,\n",
       "    'https://www.investing.com/news/stock-market-news/us-tech-giants-face-curbs-on-data-sharing-digital-marketplaces-under-draft-eu-rules-2311460',\n",
       "    'By Foo Yun Chee\\nBRUSSELS (Reuters) - Alphabet  unit Google, Facebook , Amazon , Apple  and other U.S. tech giants could be banned from favouring their services or forcing users to sign up to a bundle of services under draft EU rules aimed at reining in their power.\\nThe draft rules, known as the Digital Services Act, aim to set the ground rules for data-sharing and how digital marketplaces operate. They are expected to come into force by the end of the year.\\nThe European Commission is taking a tough line against U.S. tech giants, driven in part by antitrust cases resulting in decisions that subsequently failed to boost competition because of the lengthy process that typically takes several years.\\nThe case has taken on urgency because of the dependence of thousands of EU companies on the tech giants for their business.\\nGatekeepers, such as companies with bottleneck power or strategic market status, will not be allowed to use data collected on their platforms to target users unless this data is shared with rivals, according to the document seen by Reuters. \\n\"Gatekeepers shall not pre-install exclusively their own applications nor require from any third party operating system developers or hardware manufacturers to pre-install exclusively gatekeepers  own application,\" the paper said.\\nAnother clause would ban gatekeepers from blocking rivals offering their products to customers outside of the gatekeeper s platform or services, a move which would affect Apple and Google with their restrictive app store rules and payment.\\n\\nThe rules would also subject gatekeepers to annual audits of their advertising metrics and reporting practices. '],\n",
       "   ['2020-09-30 12:02:48',\n",
       "    'AAPL',\n",
       "    -0.6153846153846154,\n",
       "    'https://www.investing.com/news/stock-market-news/walt-disney-micron-fall-premarket-duke-energy-rises-2311439',\n",
       "    'By Peter Nurse \\nInvesting.com -- Stocks in focus in premarket trade on Wednesday, September 30th. Please refresh for updates.\\nWalt  Disney    stock fell 1.9% after the entertainment giant announced Tuesday that it will lay off roughly 28,000 employees in its theme parks division, as its resorts struggle with limited attendance due to the coronavirus pandemic.\\n  Duke Energy    stock rose 7.2% after the WSJ reported that NextEra Energy , down 1.5%, has made a takeover approach, which could result in a $60 billion-plus deal.\\nRegeneron  stock rose 1.1% after the pharma company said Tuesday its experimental two-antibody cocktail reduced viral levels and improved symptoms in non-hospitalized patients with mild-to-moderate Covid-19.\\nMicron  stock fell 4.1% after its earnings beat estimates but the tech company said it has not yet obtained new licenses needed to sell its memory chips to China s Huawei which will cut its sales over the next two quarters.\\n  Moderna    stock rose 3% after results from an early stage study showed its coronavirus vaccine candidate in older adults produced virus-neutralizing antibodies at levels similar to those seen in younger adults, a positive as immunity tends to weaken with age.\\nAlphabet  stock fell 0.6% after Reuters reported that the U.S. Justice Department is expected to sue its Google unit as soon as next week, accusing it of looking to disadvantage rivals by depriving them of user data.\\nApple  stock fell 0.8% after the tech giant granted CEO Tim Cook his first major stock package since 2011.\\nNikola  stock rose 1.2%, on hopes that the deal with General Motors ,to jointly build electric pickup trucks and hydrogen fuel cell tractor-trailers can still be salvaged, with only one day to go before the targeted date. GM said that discussions are coninuing.\\nPalantir Technologies  stock starts trading Wednesday on the NYSE with the reference price for its direct listing of $7.25 a share. That values Palantir at $15.8 billion ahead of its market debut.\\n  Oasis Petroleum    stock slumped 39% after the shale producer filed for Chapter 11 bankruptcy protection as the energy industry suffers from an unprecedented crash in oil prices in the pandemic.\\nCaesars  stock rose 2.2% after its bid to buy William Hill was accepted by the U.K. betting firm’s board, saying the $3.7 billion deal was the best option for its shareholders.']],\n",
       "  'type': 'table'}]"
      ]
     },
     "execution_count": 7,
     "metadata": {},
     "output_type": "execute_result"
    }
   ],
   "source": [
    "# create a test event and invoke the function locally\n",
    "init_context(context)\n",
    "event = nuclio.Event(body='')\n",
    "handler(context, event)"
   ]
  },
  {
   "cell_type": "markdown",
   "metadata": {},
   "source": [
    "## Deploy a function onto a cluster\n",
    "the `%nuclio deploy` command deploy functions into a cluster, make sure the notebook is saved prior to running it !<br>check the help (`%nuclio help deploy`) for more information"
   ]
  },
  {
   "cell_type": "code",
   "execution_count": 8,
   "metadata": {},
   "outputs": [
    {
     "name": "stdout",
     "output_type": "stream",
     "text": [
      "> 2020-10-07 14:00:45,434 [info] function spec saved to path: 03-stream-viewer.yaml\n"
     ]
    },
    {
     "data": {
      "text/plain": [
       "<mlrun.runtimes.function.RemoteRuntime at 0x7f47c1fca890>"
      ]
     },
     "execution_count": 8,
     "metadata": {},
     "output_type": "execute_result"
    }
   ],
   "source": [
    "from mlrun import code_to_function\n",
    "\n",
    "# Export the bare function\n",
    "fn = code_to_function('stream-viewer',\n",
    "                      handler='handler')\n",
    "fn.export('03-stream-viewer.yaml')\n",
    "\n",
    "# Set parameters for current deployment\n",
    "fn.set_envs({'V3IO_CONTAINER': 'bigdata',\n",
    "             'STOCKS_STREAM': 'stocks/stocks_stream'})\n",
    "fn.spec.max_replicas = 2"
   ]
  },
  {
   "cell_type": "code",
   "execution_count": 9,
   "metadata": {},
   "outputs": [
    {
     "name": "stdout",
     "output_type": "stream",
     "text": [
      "> 2020-10-07 14:00:52,039 [info] deploy started\n",
      "[nuclio] 2020-10-07 14:00:54,156 (info) Build complete\n",
      "[nuclio] 2020-10-07 14:00:58,202 (info) Function deploy complete\n",
      "[nuclio] 2020-10-07 14:00:58,209 done updating stocks-stream-viewer, function address: 192.168.224.209:30617\n",
      "> 2020-10-07 14:00:58,217 [warning] warning!, server (0.5.1) and client (0.5.2) ver dont match\n"
     ]
    }
   ],
   "source": [
    "addr = fn.deploy(project='stocks')"
   ]
  },
  {
   "cell_type": "code",
   "execution_count": 10,
   "metadata": {},
   "outputs": [
    {
     "name": "stdout",
     "output_type": "stream",
     "text": [
      "[{\"columns\": [{\"text\": \"Time\", \"type\": \"object\"}, {\"text\": \"Symbol\", \"type\": \"object\"}, {\"text\": \"Sentiment\", \"type\": \"object\"}, {\"text\": \"Link\", \"type\": \"object\"}, {\"text\": \"Content\", \"type\": \"object\"}], \"rows\": [[\"2020-09-22 00:00:00\", \"GOOGL\", -0.5333333333333333, \"https://www.investing.com/news/stock-market-news/sp-500-nasdaq-futures-rebound-after-selloff-2303071\", \"By Shreyashi Sanyal and Devik Jain\\n(Reuters) - The S&P 500 and Nasdaq indexes were set to open higher on Tuesday, with beaten-down shares of technology-related companies leading early gains, while Dow futures were subdued on uncertainty over more U.S. fiscal stimulus.\\nAll three of Wall Street s main indexes started the week on the back foot as fears about a new round of lockdowns in Europe and a stalemate in Congress over the size and shape of another coronavirus-response bill dented hopes of a swift economic recovery.\\nThe blue-chip Dow (DJI) closed Monday with its worst session in two weeks, while the benchmark S&P 500 (SPX) ended just under 9% down from its record high on Sept. 2, floating above correction territory.\\nThe tech-heavy Nasdaq (IXIC) was largely unchanged, while declines were mostly in value-oriented sectors such as industrials (SPLRCI), energy (SPNY) and financials (SPSY).\\n\\\"Today is sort of a reassessment day when investors are going to assess whether this pullback has further to go on the downside,\\\" said Sam Stovall, chief investment strategist at CFRA in New York.\\nInvestors are now bracing for an extended period of market volatility on concerns over growing political uncertainty in Washington, which have been sharpened by the death of Supreme Court Justice Ruth Bader Ginsburg.\\n\\\"Between now and the (Nov. 3 presidential) election there will be a lot of uncertainty. You will see a lot of volatility, a lot of short-term trades,\\\" Stovall said.\\nFederal Reserve Chair Jerome Powell on Tuesday will make the first of three appearances on Capitol Hill this week to address lawmakers  questions and concerns about the raft of emergency measures the central bank has taken to help support the economy during the pandemic.\\nAt 9:04 a.m. ET, Dow e-minis <1YMcv1> were down 13 points, or 0.05%. S&P 500 e-minis  were up 5.5 points, or 0.17% and Nasdaq 100 e-minis  were up 66.75 points, or 0.61%.\\nEarly premarket gainers included  Microsoft Corp  , Apple Inc , Amazon.com Inc , Alphabet Inc  and  Facebook Inc  , all of which have fuelled a Wall Street rally since a coronavirus-driven crash in March.\\nTesla Inc  fell 4.5% after Chief Executive Officer Elon Musk warned about the difficulties of speeding up production as an expert cautioned the carmaker s increased reliance on large-scale aluminium parts could bring new manufacturing challenges.\\n Autozone Inc   rose 3.7% after the auto parts retailer reported better-than-expected sales and profit for the fourth quarter. \\n\\n Oracle Corp   fell 1.3% on report that Beijing was unlikely to approve a proposed deal by the software maker and Walmart  for ByteDance s TikTok.\"], [\"2020-09-22 00:00:00\", \"GOOGL\", -0.22727272727272727, \"https://www.investing.com/news/politics/us-supreme-court-faces-major-challenges-when-it-returns-without-ginsburg-2302996\", \"By Lawrence Hurley\\nWASHINGTON (Reuters) - Justice Ruth Bader Ginsburg s death will be felt at the Supreme Court in the coming weeks as it starts a new term with a 5-3 conservative majority while preparing for a major case on the Obamacare healthcare law and possible emergency election-related disputes.\\nThe court officially returns on Oct. 5 from summer break with a two-week session of oral arguments held by teleconference, although it handles last-ditch appeals whenever they arise. \\nWith the normally nine-justice court operating one member down following last week s death of the 87-year-old Ginsburg, a liberal icon, there is the possibility of 4-4 splits, but also, as has been shown in the past, potentially more desire for compromise among the justices.\\nWith just three liberal justices left, there is little chance that the five-justice conservative wing of the court can be thwarted, even if Chief Justice John Roberts, who has sided with the liberals in big cases recently, was to do so again.\\nThe court as recently as 2016 spent 14 months without a ninth justice following the death of conservative Antonin Scalia, a period in which the justices often sought compromise. The justices, who get to pick which cases they hear, also avoided taking up some contentious cases.\\n\\\"There is a concern that really big changes that are made without a full complement of justices may not been seen as legitimate. I hope the court will be similarly cautious during this period,\\\" said Deepak Gupta, a regular Supreme Court lawyer.\\nComplicating matters even further, the normally collegial court has been conducting its business remotely since March because of the COVID-19 pandemic. \\nRepublican President Donald Trump has said he wants a nominee confirmed before the election on Nov. 3, when he is seeking a second term in a race against Democrat Joe Biden. He said on Monday he would make an announcement as early as this weekend, with appeals court judges Amy Coney Barrett and Barbara Lagoa viewed as front-runners.\\nLooming on the horizon are Nov. 10 oral arguments in the latest challenge to Obamacare, a case in which Ginsburg s vote might have been crucial. The Supreme Court previously upheld the law, known officially as the Affordable Care Act, on a 5-4 vote in 2012. Ginsburg was one of the five justices in the majority then, which means that her absence could tilt the balance. \\nRepublican-led states and the Trump administration have asked the court to strike down the entire law, which is being defended by Democratic-led states and the House of Representatives. \\nThere is a strong chance the court will have to weigh in on election-related litigation, potentially even having a major say over which candidate ultimately wins.\\nSylvia Albert, director of voting and elections for Common Cause, a voting rights group, said Roberts would likely seek a compromise in such a situation because he is \\\"concerned with his legacy and trying to find a middle ground.\\\" \\nAny other emergency applications made at the court in the short term could also be affected by the lack of a ninth justice.\\nFor example, in a case that the court could act on at any time, the Trump administration has asked the justices to put on hold a federal judge s decision to block during the pandemic a U.S. Food and Drug Administration rule requiring women to visit a hospital or clinic to obtain a drug used for medication-induced abortions.\\nAbortion is one of the most divisive social issues facing the court and conservative activists want Trump to pick a nominee who will curb abortion rights, which Ginsburg repeatedly voted to uphold.\\nHIGH-STAKES CASES\\nWith Ginsburg s absence, the court s initial votes in cases argued in October could be 4-4, meaning that if a decision was issued, the lower court ruling would stand and no nationwide precedent would be set if that was the final outcome. The court would most likely order such a case to be reargued after the Senate confirms Ginsburg s successor. \\nAmong the cases being heard in the first week is a high-stakes software copyright dispute between Alphabet  Inc s Google and  Oracle Corp   that is potentially worth billions of dollars to the winner.\\nOther cases the court has taken up for its new term could also be affected. On Nov. 4, the justices consider a major legal fight over the scope of religious-rights exemptions to certain federal laws. The dispute concerns Philadelphia s decision to bar Catholic Social Services from participating in its foster-care program because the organization prohibited same-sex couples from serving as foster parents.\\n\\nThe court on Dec. 2 weighs a bid by the Democratic-led House to obtain material the Trump administration withheld from former Special Counsel Robert Mueller\\u2019s report on Russian political meddling in the 2016 presidential election.\"], [\"2020-09-22 00:00:00\", \"GOOGL\", -0.5, \"https://www.investing.com/news/technology-news/trump-to-meet-state-attorneys-general-to-discuss-key-us-tech-liability-shield-2302779\", \"By David Shepardson and Nandita Bose\\nWASHINGTON (Reuters) - U.S. President Donald Trump plans to meet on Wednesday with a group of Republican state attorneys general about revising a key law that shields social media companies from liability for content posted by their users and allows them to remove lawful but objectionable posts.\\n\\\"Online censorship goes far beyond the issue of free speech, it\\u2019s also one of protecting consumers and ensuring they are informed of their rights and resources to fight back under the law,\\\" White House spokesman Judd Deere  said. \\\"State attorneys general are on the front lines of this issue and President Trump wants to hear their perspectives.\\\"\\nA person briefed on the matter said Trump is expected to meet with the state attorneys general of Texas, Arizona, Utah, Louisiana, Arkansas, Mississippi, South Carolina and Missouri.\\nThe planned meeting was reported earlier by the Washington Post.\\nIn May, Trump signed an executive order that seeks new regulatory oversight of tech firms  content moderation decisions and backed legislation to scrap or weaken the law, Section 230.\\nHe directed the Commerce Department to file the petition asking the Federal Communication Commission (FCC) to limit protections under Section 230 after  Twitter Inc   warned readers in May to fact-check his posts about unsubstantiated claims of fraud in mail-in voting.\\nFCC Chairman Ajit Pai opened the petition to a 45-day public comment.\\nEarlier this month, the Republican state attorneys general \\nof Texas, Louisiana, Indiana and Missouri backed Trump\\u2019s push, arguing social media platforms cannot be truly free \\u201cunless the participants understand the rules of the forum, and competition is able to provide alternatives when speech restrictions go too far.\\u201d\\n\\nA group representing major internet companies including  Facebook Inc  , Amazon.com Inc  and Alphabet  Inc s Google urged the FCC to reject the petition, calling it \\\"misguided, lacks grounding in law, and poses serious public policy concerns.\\\"\"], [\"2020-09-22 00:00:00\", \"GOOGL\", -0.7, \"https://www.investing.com/news/economy/chinese-tech-giant-tencents-wechat-app-sees-downloads-surge-before-us-ban-2302800\", \"HONG KONG (Reuters) - Chinese tech giant Tencent s WeChat messaging app has seen a surge in downloads in the United States since Friday after Washington confirmed it would push ahead with a planned ban of the app, data showed on Tuesday.\\nThe U.S. Department of Commerce issued an order requiring Apple Inc  and Alphabet  Inc s Google to remove WeChat for downloads on national security grounds, but a U.S. judge blocked the move on Sunday. The U.S. Commerce Department said on Monday it will challenge the order.\\nWeChat was installed about 54,000 times between Friday and Saturday, 28 times the 1,900 downloads seen in the same two-day period a week before, according to data analytics firm Sensor Tower. It said WeCom, an office collaboration app, also saw a jump in downloads in the United States over that period.\\nThe United States has launched a series of measures in recent months cracking down on Chinese tech firms and apps, citing national security grounds, as the world s two largest economies butt heads on issues ranging from trade and technology to the handling of the coronavirus pandemic. \\nTencent, which has denied its apps pose a national security risk, has said updates of the app for existing U.S. users may be negatively affected should Apple and Google remove WeChat from their stores.\\nWeChat is an all-in-one mobile app that combines messaging, social media, payment functions and other services and boasts more than a billion users globally.\\nWeCom, which was rebranded from Tencent s office collaboration app WeChat Work only days after U.S. President Donald Trump first said he would ban WeChat in August, was installed 58,000 times in the United States on Friday and Saturday, 193 times the 300 downloads it saw over the same period a week prior, according to Sensor Tower estimates.\\nAfter downloading WeCom, users can now link their WeChat account to it and add their WeChat contacts, a Reuters test showed. WeCom users can then message, create chat groups, and even receive virtual money from WeChat friends without their WeChat contacts having to download WeCom.\\n\\nTencent told Chinese media WeCom is a completely different product from WeChat.\"], [\"2020-09-22 00:00:00\", \"MSFT\", -0.5333333333333333, \"https://www.investing.com/news/stock-market-news/sp-500-nasdaq-futures-rebound-after-selloff-2303071\", \"By Shreyashi Sanyal and Devik Jain\\n(Reuters) - The S&P 500 and Nasdaq indexes were set to open higher on Tuesday, with beaten-down shares of technology-related companies leading early gains, while Dow futures were subdued on uncertainty over more U.S. fiscal stimulus.\\nAll three of Wall Street s main indexes started the week on the back foot as fears about a new round of lockdowns in Europe and a stalemate in Congress over the size and shape of another coronavirus-response bill dented hopes of a swift economic recovery.\\nThe blue-chip Dow (DJI) closed Monday with its worst session in two weeks, while the benchmark S&P 500 (SPX) ended just under 9% down from its record high on Sept. 2, floating above correction territory.\\nThe tech-heavy Nasdaq (IXIC) was largely unchanged, while declines were mostly in value-oriented sectors such as industrials (SPLRCI), energy (SPNY) and financials (SPSY).\\n\\\"Today is sort of a reassessment day when investors are going to assess whether this pullback has further to go on the downside,\\\" said Sam Stovall, chief investment strategist at CFRA in New York.\\nInvestors are now bracing for an extended period of market volatility on concerns over growing political uncertainty in Washington, which have been sharpened by the death of Supreme Court Justice Ruth Bader Ginsburg.\\n\\\"Between now and the (Nov. 3 presidential) election there will be a lot of uncertainty. You will see a lot of volatility, a lot of short-term trades,\\\" Stovall said.\\nFederal Reserve Chair Jerome Powell on Tuesday will make the first of three appearances on Capitol Hill this week to address lawmakers  questions and concerns about the raft of emergency measures the central bank has taken to help support the economy during the pandemic.\\nAt 9:04 a.m. ET, Dow e-minis <1YMcv1> were down 13 points, or 0.05%. S&P 500 e-minis  were up 5.5 points, or 0.17% and Nasdaq 100 e-minis  were up 66.75 points, or 0.61%.\\nEarly premarket gainers included  Microsoft Corp  , Apple Inc , Amazon.com Inc , Alphabet Inc  and  Facebook Inc  , all of which have fuelled a Wall Street rally since a coronavirus-driven crash in March.\\nTesla Inc  fell 4.5% after Chief Executive Officer Elon Musk warned about the difficulties of speeding up production as an expert cautioned the carmaker s increased reliance on large-scale aluminium parts could bring new manufacturing challenges.\\n Autozone Inc   rose 3.7% after the auto parts retailer reported better-than-expected sales and profit for the fourth quarter. \\n\\n Oracle Corp   fell 1.3% on report that Beijing was unlikely to approve a proposed deal by the software maker and Walmart  for ByteDance s TikTok.\"], [\"2020-09-22 00:00:00\", \"MSFT\", -0.32, \"https://www.investing.com/news/stock-market-news/beijing-unlikely-to-approve-bytedances-tiktok-deal-with-oracle-global-times-2302760\", \"By Josh Horwitz and Brenda Goh\\nSHANGHAI (Reuters) - China is unlikely to approve an \\\"unfair\\\" deal  Oracle Corp   and Walmart  Inc said they have struck with ByteDance over the future of video-streaming app TikTok, the state-backed Global Times newspaper said in an editorial.\\nThe U.S. majors have said they would buy into a new mainly U.S.-owned company, TikTok Global, with a board of directors comprised mainly of Americans, as the parties work to pacify the administration of U.S. President Donald Trump, which had planned to ban TikTok in the United States on security grounds.\\nIn contrast, ByteDance has said TikTok Global would be its U.S. subsidiary with 80% ownership.\\n\\\"It is clear that these articles (terms) extensively show Washington s bullying style and hooligan logic. They hurt China s national security, interests and dignity,\\\" the newspaper said in an editorial in its English edition published late on Monday. It was also carried in its Chinese edition.\\n\\\"From the information provided by the U.S., the deal was unfair. It caters to the unreasonable demands of Washington. It s hard for us to believe that Beijing will approve such an agreement,\\\" it said, echoing comments on Twitter the same evening from its editor-in-chief, Hu Xijin.\\nHu on Tuesday, responding to comments Trump made to Fox News about how TikTok Global was going to be \\\"totally controlled\\\" by Oracle, said on Twitter: \\\"Stop extorting. You think TikTok is a company from a small country?\\\"\\n\\\"There s no way the Chinese government will accept your demand. You can ruin TikTok s U.S. business, if U.S. users do not object, but you can t rob it and turn it into a U.S. baby.\\\"\\nThe Global Times is a tabloid published by the People s Daily, the official newspaper of China s ruling Communist Party, but does not speak on behalf of the party and government unlike its parent publication.\\nChina s government has largely refrained from directly commenting on the deal s details, though the foreign ministry has said the United States should offer a fair and non-discriminatory environment for foreign companies.\\nReuters reported this month, citing sources, that Beijing opposed a forced sale of TikTok s U.S. operations by ByteDance, and would prefer to see the short video app shut down in the United States.\\nThe deal requires approval from regulators in both Beijing and Washington, ByteDance has said. China s Ministry of Commerce in late August revised a tech export control list that experts said would give it regulatory oversight over any TikTok deal.\\nByteDance and the commerce ministry did not immediately respond to requests for comment.\\nMAIN OBJECTIONS\\nOver the weekend, ByteDance, Oracle and Walmart said they had reached a deal that would satisfy Trump s call for TikTok to be sold to an American firm or be shut down in the United States.\\nHowever, the sides have framed the deal differently in public statements.\\nWhereas ByteDance said it will majority-own TikTok Global, Oracle and Walmart together said ByteDance s ownership would be distributed to its investors - many of which are U.S.-based - and that ByteDance itself would have no direct stake. They also said four of TikTok Global s five-member board would be American.\\nThe unidentified author of the Global Times editorial objected to there being only one board seat reserved for a Chinese national, as well as the stipulated inclusion on the board of a U.S-approved \\\"national security director\\\".\\nIt also denounced the need for ByteDance to reveal source code to Oracle as part of the latter s role of \\\"trusted technology partner\\\" and criticised the likelihood of TikTok Global blocking Chinese access to its app. \\nTikTok has never been available in China. It has said it has more than 100 million monthly active U.S. users, compared with 600 million daily users at mainland equivalent Douyin.\\n\\\"As TikTok and Douyin should have the same source code, this means the U.S. can get to know the operations of Douyin,\\\" the Global Times said.\\n\\\"If the reorganization of TikTok under U.S. manipulation becomes a model, it means once any successful Chinese company expands its business to the U.S. and becomes competitive, it will be targeted by the U.S. and turned into a U.S.-controlled company via trickery and coercion, which eventually serves only U.S. interests.\\\"\\nBeijing-based ByteDance has only two Chinese nationals on its five-member board, with the other three being foreigners running U.S.-based companies.\\n\\nByteDance has also said Oracle s ability to inspect TikTok s source code before investing is akin to previous instances of U.S. companies such as  Microsoft Corp   sharing source code with Chinese technology experts.\"], [\"2020-09-22 00:00:00\", \"MSFT\", -0.5, \"https://www.investing.com/news/stock-market-news/stockbeat-whitbread-snaps-as-the-uk-signals-an-end-to-reopening-2302922\", \"By Geoffrey Smith \\nInvesting.com -- The specter of lockdowns is haunting Europe s stock markets again on Tuesday, after the U.K. effectively abandoned its campaign to get people back into offices in an effort to contain a rapidly-swelling second wave of the Covid-19 virus. \\nU.K. media reported that Prime Minister Boris Johnson will urge people to work from home wherever possible, on top of a new 10 PM curfew for pubs and restaurants. While the new measures fall short of what was feared, the unmistakable direction of travel is toward an extension of the extreme social distancing imposed back in the spring.\\nNo surprise then, that the stocks being hardest hit are those travel and leisure-related names that had started to show signs of life in the last few weeks: Ryanair , International Airlines Group   and Air France KLM  stock all fell by between 4% and 5%, while aerospace suppliers  Meggitt  , Senior  and Rolls-Royce  Holdings PLC  also all tumbled, the last of them hitting yet another new low for the year.\\nBy contrast, tech is back as the defensive play: payments company  Adyen   surged nearly 6% to a new record high, while SAP  rose 2.2% and games publisher Rovio  rose 2.2%, buoyed by the hefty $7.5 billion dished out by Microsoft  for the parent company of Bethesda Softworks, the author of Doom and other successful video game franchises.\\nBut if you want a peek into the course of the next six months, then take a look at  Whitbread , a U.K.-based operator of hotels and restaurants. It announced on Tuesday it will cut up to 18% of its workforce, some 6,000 jobs.  While optimists will point out that the government s shift of focus will only redirect economic activity rather than kill it, those job cuts - which look like a pre-emptive measure to avoid being saddled with the full cost of paying the workforce when the government s furlough scheme runs out, are part of an ever-clearer trend toward higher joblessness, lower tax revenue and higher government deficits.\\n\\\"It has been clear from the beginning of this crisis that even as restrictions are eased and hospitality businesses such as ours reopen their doors, that demand would be materially lower than FY20 levels for a period of time,\\\" the company said in a stock exchange statement, which also showed a 75% drop in revenue over the six months through August.  \\nGiven that the thinking behind that decision took place against an improving backdrop, the fact that the announcement coincides with the government reversing course on reopening the economy has basically killed any hopes that the job cuts could represent some kind of turning point. Whitbread  shares fell 3.5% and have now lost over half their value this year.\"], [\"2020-09-22 00:00:00\", \"MSFT\", -0.25, \"https://www.investing.com/news/technology-news/pegatron-plans-to-invest-1-billion-in-vietnam-plant-state-media-2302866\", \"HANOI (Reuters) - Taiwan s  Pegatron  (TW:4938) is seeking to invest $1 billion in three phases in production facilities in areas such as computing, communication and consumer electronics in Vietnam, state-media reported on Tuesday. \\nPegatron, which is a manufacturing partner of Apple , Microsoft  and Sony (T:6758), had received licenses to initially invest $19 million in the city of Haiphong, the Hanoitimes and Tuoi Tre newspapers reported, citing a report by the Ministry of Planning and Investment.\\nPegatron was also seeking licences for a $481-million second phase and $500 million in 2026-2027, the papers said, adding these were expected to create 22,500 jobs and contribute around 100 billion dong ($4.31 million) to the state budget per year. \\nReuters was unable to obtain a copy of the report and calls to the ministry were not answered. \\nPegatron did not immediately respond to a request for comment.\\nUnder the plans, Pegatron would join Apple s two other iPhone assemblers,  Wistron Corp  (TW:3231) and Foxconn (TW:2317), in developing more capacity in Vietnam.\\nApple has been producing its wireless earbuds AirPods Pro in Vietnam since May.\\nSu Chih-Yen, acting director of the Investment Commission of Taiwan s Economics Ministry, told Reuters it had not yet approved such an investment, but declined to comment on whether they had received an application. \\nIn a bid to skirt U.S. tariffs on Chinese goods, Taiwanese companies have been particularly active in either moving production back home or elsewhere in Asia.\\nAnother Taiwanese company, Universal Global Technology, which produces smartphone and earbuds parts for Lenovo (HK:0992) and Sony, was also looking to set up a plant in Vietnam, Hanoitimes cited the report as saying.\\n\\nASE Technology Holding, parent company of Universal Global Technology, did not immediately respond to an emailed request for comment.\"], [\"2020-09-21 00:00:00\", \"MSFT\", -0.5, \"https://www.investing.com/news/stock-market-news/bytedance-says-tiktok-global-plans-public-offering-2301364\", \"By Echo Wang and Yingzhi Yang\\nNEW YORK/BEIJING (Reuters) - ByteDance and  Oracle Corp   issued conflicting statements on Monday over the terms of an agreement they reached with the White House over the weekend to allow TikTok to continue to operate in the United States, casting doubt on President Donald Trump s preliminary blessing of the deal.\\nChina s ByteDance was racing to avoid a crackdown on its popular short-video app after the U.S. Commerce Department said on Friday it would block new downloads and updates to the app. U.S. officials had expressed concern that the personal data of as many as 100 million Americans that use the app was being passed on to China s Communist Party government.\\nA successful deal would allow Trump to drop his threat of shutting down TikTok and avoid alienating its army of young users ahead of the Nov. 3 U.S. election.\\nByteDance said on Monday that it will own 80% of TikTok Global, a newly created U.S. company that will own most of the app s operations worldwide. ByteDance added that TikTok Global will become its subsidiary. \\nOracle and Walmart  Inc, which have agreed to take stakes in TikTok Global of 12.5% and 7.5% respectively, had said on Saturday that majority ownership of TikTok would be in American hands. On Monday, Oracle said ByteDance s ownership of TikTok would be distributed to ByteDance s investors, and that the Beijing-based firm would have no stake in TikTok Global.\\nTrump signed an executive order on Aug. 14 giving ByteDance 90 days to relinquish ownership of TikTok. Oracle s account of the deal would mean that ByteDance would be complying with that order, while ByteDance s account would represent a policy reversal for Trump.\\nTrump did not comment on the conflicting accounts of the agreement on Monday, but said the deal was \\\"working its way through\\\" after he granted his preliminary approval.\\n\\\"If we can save (TikTok), we will save it, and if we can t we will cut it off. We have to have total security,\\\" Trump told reporters before departing the White House. \\nThe corporate governance arrangement that the companies have disclosed for TikTok Global does not award total control to Oracle and Walmart. Walmart Chief Executive Doug McMillon would be one of five directors on TikTok Global s board, the companies have said. Others would include ByteDance founder Zhang Yiming, and the heads of ByteDance s two top investors, General Atlantic and Sequoia Capital. The fifth board director has yet to be named. \\nThe current plan for TikTok Global does not involve any transfer of algorithms or technologies, and Oracle will be able to inspect TikTok U.S. s source code, ByteDance said on Monday. This is akin to U.S. companies such as  Microsoft Corp   sharing their source code with Chinese technology experts, ByteDance added. Oracle and Walmart have said all of TikTok s technology will be transferred to TikTok Global. \\nThe Commerce Department postponed a ban on downloads and apps to the TikTok app that was due to take effect on Sunday by one week, to give the companies time to finalize the deal. \\nThe Committee on Foreign Investment in the United States, a U.S. government panel that reviews deals for potential national security risks, has been overseeing the negotiations.\\nSome sources close to the deal have sought to reconcile the discrepancies by pointing out that 41% of ByteDance is owned by U.S. investors, so by counting this indirect ownership TikTok Global would be majority owned by U.S. parties. One of the sources said the deal with Oracle and Walmart values TikTok Global at more than $50 billion.\\nByteDance on Monday also confirmed plans for an initial public offering of TikTok Global. Oracle has said this will happen in less than 12 months on a U.S. stock exchange. \\nEDUCATION FUND\\nByteDance also said a $5 billion payment of taxes TikTok Global will make to the U.S. Treasury is based on estimated income and other taxes the company will need to pay over the next few years, and has nothing to do with the deal reached with Oracle and Walmart. \\nTrump last week had said there would be a $5 billion U.S. education fund as part of the deal, but ByteDance has said it was not aware of this. Walmart, Oracle and some ByteDance investors said they would sponsor an educational initiative for online courses for children in the suburbs and inner cities. \\nByteDance owning the majority of TikTok Global and the algorithms means that ByteDance is \\\"not out of the game\\\" and has avoided the worst-case scenario, China s state-run newspaper Global Times said in an editorial published on Sunday. \\nBut on Monday, Global Times editor-in-chief Hu Xijin tweeted: \\\"Based on what I know, Beijing won t approve current agreement between ByteDance, TikTok s parent company, and Oracle, Walmart, because the agreement would endanger China s national security, interests and dignity.\\\"\\n\\nChina s foreign ministry did not immediately respond to a request for comment.\"], [\"2020-09-21 00:00:00\", \"MSFT\", -0.23076923076923078, \"https://www.investing.com/news/stock-market-news/us-stocks-lower-at-close-of-trade-dow-jones-industrial-average-down-184-2302641\", \"Investing.com \\u2013 U.S. stocks were lower after the close on Monday, as losses in the Basic Materials, Oil & Gas and Financials sectors led shares lower.\\nAt the close in NYSE, the Dow Jones Industrial Average declined 1.84% to hit a new 1-month low, while the S&P 500 index fell 1.16%, and the NASDAQ Composite index lost 0.13%.\\nThe best performers of the session on the Dow Jones Industrial Average were Apple Inc , which rose 3.03% or 3.24 points to trade at 110.08 at the close. Meanwhile, Walmart Inc  added 1.32% or 1.78 points to end at 137.07 and Microsoft Corporation  was up 1.07% or 2.15 points to 202.54 in late trade.\\nThe worst performers of the session were  American Express  Company , which fell 5.09% or 5.27 points to trade at 98.17 at the close. Dow Inc  declined 4.88% or 2.46 points to end at 47.91 and 3M Company  was down 4.83% or 8.19 points to 161.36.\\nThe top performers on the S&P 500 were  PayPal Holdings Inc   which rose 4.06% to 183.21, Advanced Micro Devices Inc  which was up 4.02% to settle at 77.94 and Quest Diagnostics Incorporated  which gained 3.76% to close at 118.15.\\nThe worst performers were TechnipFMC PLC  which was down 9.82% to 6.70 in late trade, Delta Air Lines Inc  which lost 9.20% to settle at 29.82 and  Federal Realty Investment Trust   which was down 9.17% to 73.28 at the close.\\nThe top performers on the NASDAQ Composite were Cardiff Oncology Inc  which rose 33.18% to 11.600,  Acasti Pharma  Inc  which was up 28.99% to settle at 0.2790 and  CleanSpark  Inc  which gained 28.48% to close at 14.84.\\nThe worst performers were Nextdecade Corp  which was down 25.10% to 3.67 in late trade, Eagle Bulk Shipping Inc  which lost 23.89% to settle at 17.71 and  Wave Life Sciences Ltd   which was down 22.98% to 15.05 at the close.\\nFalling stocks outnumbered advancing ones on the New York Stock Exchange by 2694 to 430 and 41 ended unchanged; on the Nasdaq Stock Exchange, 2361 fell and 536 advanced, while 37 ended unchanged.\\nShares in Cardiff Oncology Inc  rose to 52-week highs; up 33.18% or 2.890 to 11.600. Shares in CleanSpark Inc  rose to 52-week highs; rising 28.48% or 3.29 to 14.84. \\nThe CBOE Volatility Index, which measures the implied volatility of S&P 500 options, was up 7.55% to 27.78.\\nGold Futures for December delivery was down 2.27% or 44.50 to $1917.60 a troy ounce. Elsewhere in commodities trading, Crude oil for delivery in November fell 3.68% or 1.52 to hit $39.80 a barrel, while the November Brent oil contract rose 0.12% or 0.05 to trade at $41.73 a barrel.\\nEUR/USD was up 0.02% to 1.1771, while USD/JPY rose 0.04% to 104.69.\"]], \"type\": \"table\"}]"
     ]
    }
   ],
   "source": [
    "# nuclio: ignore\n",
    "# test the new API end point, take the address from the deploy log above\n",
    "!curl {addr}"
   ]
  },
  {
   "cell_type": "code",
   "execution_count": null,
   "metadata": {},
   "outputs": [],
   "source": []
  }
 ],
 "metadata": {
  "kernelspec": {
   "display_name": "Python 3",
   "language": "python",
   "name": "python3"
  },
  "language_info": {
   "codemirror_mode": {
    "name": "ipython",
    "version": 3
   },
   "file_extension": ".py",
   "mimetype": "text/x-python",
   "name": "python",
   "nbconvert_exporter": "python",
   "pygments_lexer": "ipython3",
   "version": "3.7.6"
  }
 },
 "nbformat": 4,
 "nbformat_minor": 4
}
