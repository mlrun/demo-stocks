{
 "cells": [
  {
   "cell_type": "markdown",
   "metadata": {},
   "source": [
    "# Ingest Real-Time Stock Data to Iguazio NoSQL and Time-series DB\n",
    "the following example function ingest real-time stock information from an internet service (Yahoo finance api) into iguazio platform.<br>\n",
    "everytime the data is updated it updates a NoSQL table with the recent metadata and updates the time-series DB with the new metrics (price and volume)\n",
    "\n",
    "The same code can run inside a nuclio (serverless) function and be automatically triggered on a predefined schedule (cron) or through HTTP requests<br>\n",
    "\n",
    "the example demonstrate the use of `%nuclio` magic commands to specify environment variables, package dependencies,<br>configurations (such as the cron schedule), and to deploy functions automatically onto a cluster."
   ]
  },
  {
   "cell_type": "code",
   "execution_count": 1,
   "metadata": {},
   "outputs": [],
   "source": [
    "# if the nuclio-jupyter package is not installed run !pip install nuclio-jupyter\n",
    "import nuclio "
   ]
  },
  {
   "cell_type": "markdown",
   "metadata": {},
   "source": [
    "## Environment"
   ]
  },
  {
   "cell_type": "markdown",
   "metadata": {},
   "source": [
    "copy the local credentials to the nuclio function config (-c option doesn't initialize locally)"
   ]
  },
  {
   "cell_type": "code",
   "execution_count": 2,
   "metadata": {},
   "outputs": [],
   "source": [
    "%nuclio env -c V3IO_ACCESS_KEY=${V3IO_ACCESS_KEY}\n",
    "%nuclio env -c V3IO_USERNAME=${V3IO_USERNAME}\n",
    "%nuclio env -c V3IO_API=${V3IO_API}"
   ]
  },
  {
   "cell_type": "markdown",
   "metadata": {},
   "source": [
    "### Set function configuration \n",
    "use a cron trigger with 5min interval and define the base image<br>\n",
    "for more details check [nuclio function configuration reference](https://github.com/nuclio/nuclio/blob/master/docs/reference/function-configuration/function-configuration-reference.md)"
   ]
  },
  {
   "cell_type": "code",
   "execution_count": 3,
   "metadata": {},
   "outputs": [
    {
     "name": "stdout",
     "output_type": "stream",
     "text": [
      "%nuclio: setting spec.triggers.secs.kind to 'cron'\n",
      "%nuclio: setting spec.triggers.secs.attributes.interval to '300s'\n",
      "%nuclio: setting spec.build.baseImage to 'python:3.6-jessie'\n"
     ]
    }
   ],
   "source": [
    "%%nuclio config \n",
    "spec.triggers.secs.kind = \"cron\"\n",
    "spec.triggers.secs.attributes.interval = \"300s\"\n",
    "spec.build.baseImage = \"python:3.6-jessie\""
   ]
  },
  {
   "cell_type": "markdown",
   "metadata": {},
   "source": [
    "### Install required packages\n",
    "`%nuclio cmd` allows you to run image build instructions and install packages<br>\n",
    "Note: `-c` option will only install in nuclio, not locally"
   ]
  },
  {
   "cell_type": "code",
   "execution_count": 4,
   "metadata": {},
   "outputs": [],
   "source": [
    "%%nuclio cmd  -c\n",
    "pip install lxml\n",
    "pip install yfinance\n",
    "pip install requests\n",
    "pip install v3io_frames"
   ]
  },
  {
   "cell_type": "markdown",
   "metadata": {},
   "source": [
    "## Nuclio function implementation\n",
    "this function can run in Jupyter or in nuclio (real-time serverless)"
   ]
  },
  {
   "cell_type": "code",
   "execution_count": 5,
   "metadata": {},
   "outputs": [],
   "source": [
    "# nuclio: start-code"
   ]
  },
  {
   "cell_type": "code",
   "execution_count": 6,
   "metadata": {},
   "outputs": [],
   "source": [
    "import json\n",
    "import requests\n",
    "import yfinance as yf\n",
    "import os\n",
    "import pandas as pd\n",
    "import datetime\n",
    "import v3io_frames as v3f\n",
    "import ast"
   ]
  },
  {
   "cell_type": "code",
   "execution_count": 7,
   "metadata": {},
   "outputs": [],
   "source": [
    "def update_tickers(context, perdiod, interval):\n",
    "    stocks=[]; times=[]; volumes=[]; prices=[]\n",
    "    \n",
    "    stocks_df = pd.DataFrame()\n",
    "    for sym in context.stock_syms:\n",
    "        hist = yf.Ticker(sym).history(period=perdiod, interval='1m')\n",
    "        time = hist.index[len(hist) - 1]\n",
    "        record = hist.loc[time]\n",
    "        last = context.last_trade_times.get(sym)\n",
    "        context.logger.info(f'Received {sym} data from yfinance, including {len(hist)} candles ending at {last}')\n",
    "\n",
    "        \n",
    "        # update the stocks table and TSDB metrics in case of new data \n",
    "        if not last or time > last:\n",
    "            \n",
    "            # update NoSQL table with stock data\n",
    "            stock = {'symbol': sym, 'price': record['Close'], 'volume': record['Volume'], 'last_updated': time}\n",
    "            expr = context.expr_template.format(**stock)\n",
    "            context.logger.debug_with('update expression', symbol=sym, expr=expr)\n",
    "            context.v3c.execute('kv', context.stocks_kv_table, 'update', args={'key': sym, 'expression': expr})\n",
    "            context.logger.info(f'Updated records from {last} to {time}')\n",
    "            # update time-series DB with price and volume metrics (use pandas dataframe with a single row, indexed by date)\n",
    "            context.last_trade_times[sym] = time\n",
    "            hist['symbol'] = sym\n",
    "            hist = hist.reset_index()\n",
    "            hist = hist.set_index(['Datetime', 'symbol'])\n",
    "            hist = hist.loc[:, ['Close', 'Volume']]\n",
    "            hist = hist.rename(columns={'Close': 'price', 'Volume': 'volume'})\n",
    "            stocks_df = stocks_df.append(hist)\n",
    "            context.logger.info(f'Added records {hist.shape[0]} records for {sym} to history')\n",
    "        else:\n",
    "            context.logger.info(f'No update was made, current TS: {last} vs. new data {time}')\n",
    "               \n",
    "    # write price and volume metrics to the Time-Series DB, add exchange label\n",
    "    if stocks_df.shape[0]>0:\n",
    "        stocks_df = stocks_df.sort_index(level=0)\n",
    "        context.logger.debug_with('writing data to TSDB', stocks=stocks_df)\n",
    "        stocks_df.to_csv('history.csv')\n",
    "        context.v3c.write(backend='tsdb', table=context.stocks_tsdb_table, dfs=stocks_df)"
   ]
  },
  {
   "cell_type": "code",
   "execution_count": 8,
   "metadata": {},
   "outputs": [],
   "source": [
    "def init_context(context):\n",
    "    # Setup V3IO Client\n",
    "    client = v3f.Client('framesd:8081',container=os.getenv('V3IO_CONTAINER', 'bigdata'))\n",
    "    setattr(context, 'v3c', client)\n",
    "    \n",
    "    # Create V3IO Tables and add reference to context\n",
    "    setattr(context, 'stocks_kv_table', os.getenv('STOCKS_KV_TABLE', 'stocks/stocks_kv'))\n",
    "    setattr(context, 'stocks_tsdb_table', os.getenv('STOCKS_TSDB_TABLE', 'stocks/stocks_tsdb'))\n",
    "    context.v3c.create(backend='tsdb', table=context.stocks_tsdb_table, rate='1/m', if_exists=1)\n",
    "    \n",
    "    stocks = os.getenv('STOCK_LIST','GOOGL,MSFT,AMZN,AAPL,INTC')\n",
    "    if stocks.startswith('['):\n",
    "        stock_syms = ast.literal_eval(stocks)\n",
    "    else: \n",
    "        stock_syms = stocks.split(',')\n",
    "    setattr(context, 'stock_syms', stock_syms)\n",
    "    \n",
    "\n",
    "    # v3io update expression template \n",
    "    expr_template = os.getenv('EXPRESSION_TEMPLATE', \"symbol='{symbol}';price={price};volume={volume};last_updated='{last_updated}'\")\n",
    "    setattr(context, 'expr_template', expr_template)\n",
    "\n",
    "    last_trade_times = {}\n",
    "    setattr(context, 'last_trade_times', last_trade_times)\n",
    "    \n",
    "    # Run first initial data preperation\n",
    "    update_tickers(context, '7d', '1m')"
   ]
  },
  {
   "cell_type": "code",
   "execution_count": 9,
   "metadata": {},
   "outputs": [],
   "source": [
    "def handler(context, event):\n",
    "    update_tickers(context, '5m', '1m')\n",
    "    return 'done'"
   ]
  },
  {
   "cell_type": "code",
   "execution_count": 10,
   "metadata": {},
   "outputs": [],
   "source": [
    "# nuclio: end-code"
   ]
  },
  {
   "cell_type": "markdown",
   "metadata": {},
   "source": [
    "## Function invocation\n",
    "### Local test\n",
    "the following section simulates nuclio function invocation and will emit the function results"
   ]
  },
  {
   "cell_type": "code",
   "execution_count": 14,
   "metadata": {},
   "outputs": [
    {
     "name": "stdout",
     "output_type": "stream",
     "text": [
      "Python> 2020-09-27 16:58:48,825 [info] Received GOOGL data from yfinance, including 2691 candles ending at None\n",
      "Python> 2020-09-27 16:58:48,827 [info] Updated records from None to 2020-09-25 15:59:00-04:00\n",
      "Python> 2020-09-27 16:58:48,836 [info] Added records 2691 records for GOOGL to history\n",
      "Python> 2020-09-27 16:58:49,067 [info] Received MSFT data from yfinance, including 2724 candles ending at None\n",
      "Python> 2020-09-27 16:58:49,070 [info] Updated records from None to 2020-09-25 15:59:00-04:00\n",
      "Python> 2020-09-27 16:58:49,079 [info] Added records 2724 records for MSFT to history\n",
      "Python> 2020-09-27 16:58:49,308 [info] Received AMZN data from yfinance, including 2724 candles ending at None\n",
      "Python> 2020-09-27 16:58:49,311 [info] Updated records from None to 2020-09-25 15:59:00-04:00\n",
      "Python> 2020-09-27 16:58:49,320 [info] Added records 2724 records for AMZN to history\n",
      "Python> 2020-09-27 16:58:49,791 [info] Received AAPL data from yfinance, including 2724 candles ending at None\n",
      "Python> 2020-09-27 16:58:49,793 [info] Updated records from None to 2020-09-25 15:59:00-04:00\n",
      "Python> 2020-09-27 16:58:49,803 [info] Added records 2724 records for AAPL to history\n",
      "Python> 2020-09-27 16:58:50,037 [info] Received INTC data from yfinance, including 2724 candles ending at None\n",
      "Python> 2020-09-27 16:58:50,040 [info] Updated records from None to 2020-09-25 15:59:00-04:00\n",
      "Python> 2020-09-27 16:58:50,049 [info] Added records 2724 records for INTC to history\n",
      "Python> 2020-09-27 16:58:50,896 [info] Received GOOGL data from yfinance, including 5 candles ending at 2020-09-25 15:59:00-04:00\n",
      "Python> 2020-09-27 16:58:50,896 [info] No update was made, current TS: 2020-09-25 15:59:00-04:00 vs. new data 2020-09-25 15:59:00-04:00\n",
      "Python> 2020-09-27 16:58:50,998 [info] Received MSFT data from yfinance, including 5 candles ending at 2020-09-25 15:59:00-04:00\n",
      "Python> 2020-09-27 16:58:50,999 [info] No update was made, current TS: 2020-09-25 15:59:00-04:00 vs. new data 2020-09-25 15:59:00-04:00\n",
      "Python> 2020-09-27 16:58:51,116 [info] Received AMZN data from yfinance, including 5 candles ending at 2020-09-25 15:59:00-04:00\n",
      "Python> 2020-09-27 16:58:51,117 [info] No update was made, current TS: 2020-09-25 15:59:00-04:00 vs. new data 2020-09-25 15:59:00-04:00\n",
      "Python> 2020-09-27 16:58:51,382 [info] Received AAPL data from yfinance, including 5 candles ending at 2020-09-25 15:59:00-04:00\n",
      "Python> 2020-09-27 16:58:51,383 [info] No update was made, current TS: 2020-09-25 15:59:00-04:00 vs. new data 2020-09-25 15:59:00-04:00\n",
      "Python> 2020-09-27 16:58:51,646 [info] Received INTC data from yfinance, including 5 candles ending at 2020-09-25 15:59:00-04:00\n",
      "Python> 2020-09-27 16:58:51,647 [info] No update was made, current TS: 2020-09-25 15:59:00-04:00 vs. new data 2020-09-25 15:59:00-04:00\n"
     ]
    },
    {
     "data": {
      "text/plain": [
       "'done'"
      ]
     },
     "execution_count": 14,
     "metadata": {},
     "output_type": "execute_result"
    }
   ],
   "source": [
    "# create a test event and invoke the function locally \n",
    "init_context(context)\n",
    "event = nuclio.Event(body='')\n",
    "handler(context, event)"
   ]
  },
  {
   "cell_type": "markdown",
   "metadata": {},
   "source": [
    "## Deploy to cluster"
   ]
  },
  {
   "cell_type": "code",
   "execution_count": 12,
   "metadata": {},
   "outputs": [
    {
     "name": "stdout",
     "output_type": "stream",
     "text": [
      "> 2020-09-27 16:10:28,112 [info] function spec saved to path: 03-read-stocks.yaml\n"
     ]
    },
    {
     "data": {
      "text/plain": [
       "<mlrun.runtimes.function.RemoteRuntime at 0x7fd456f1d3d0>"
      ]
     },
     "execution_count": 12,
     "metadata": {},
     "output_type": "execute_result"
    }
   ],
   "source": [
    "from mlrun import code_to_function\n",
    "\n",
    "environment_variables = {'STOCK_LIST': ['GOOG', 'MSFT', 'AMZN', 'AAPL', 'INTC'],\n",
    "                         'V3IO_CONTAINER': 'bigdata',\n",
    "                         'STOCKS_TSDB_TABLE': 'stocks/stocks_tsdb',\n",
    "                         'STOCKS_KV_TABLE': 'stocks/stocks_kv',\n",
    "                         'EXPRESSION_TEMPLATE': \"symbol='{symbol}';price={price};volume={volume};last_updated='{last_updated}'\"}\n",
    "\n",
    "fn = code_to_function('read-stocks',\n",
    "                      kind='nuclio',\n",
    "                      handler='handler')\n",
    "fn.export('01-read-stocks.yaml')\n",
    "fn.set_envs(environment_variables)"
   ]
  },
  {
   "cell_type": "code",
   "execution_count": 13,
   "metadata": {},
   "outputs": [
    {
     "name": "stdout",
     "output_type": "stream",
     "text": [
      "> 2020-09-27 16:10:32,115 [info] deploy started\n",
      "[nuclio] 2020-09-27 16:10:38,239 (info) Build complete\n",
      "[nuclio] 2020-09-27 16:10:52,425 (info) Function deploy complete\n",
      "[nuclio] 2020-09-27 16:10:52,431 done updating stocks-read-stocks, function address: 3.12.231.36:30814\n"
     ]
    },
    {
     "data": {
      "text/plain": [
       "'http://3.12.231.36:30814'"
      ]
     },
     "execution_count": 13,
     "metadata": {},
     "output_type": "execute_result"
    }
   ],
   "source": [
    "fn.deploy(project='stocks')"
   ]
  },
  {
   "cell_type": "code",
   "execution_count": null,
   "metadata": {},
   "outputs": [],
   "source": []
  }
 ],
 "metadata": {
  "kernelspec": {
   "display_name": "Python 3",
   "language": "python",
   "name": "python3"
  },
  "language_info": {
   "codemirror_mode": {
    "name": "ipython",
    "version": 3
   },
   "file_extension": ".py",
   "mimetype": "text/x-python",
   "name": "python",
   "nbconvert_exporter": "python",
   "pygments_lexer": "ipython3",
   "version": "3.7.6"
  },
  "toc-autonumbering": false
 },
 "nbformat": 4,
 "nbformat_minor": 4
}
