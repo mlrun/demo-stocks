{
 "cells": [
  {
   "cell_type": "markdown",
   "metadata": {},
   "source": [
    "# Ingest Real-Time Stock Data to Iguazio NoSQL and Time-series DB\n",
    "the following example function ingest real-time stock information from an internet service (Yahoo finance api) into iguazio platform.<br>\n",
    "everytime the data is updated it updates a NoSQL table with the recent metadata and updates the time-series DB with the new metrics (price and volume)\n",
    "\n",
    "The same code can run inside a nuclio (serverless) function and be automatically triggered on a predefined schedule (cron) or through HTTP requests<br>\n",
    "\n",
    "the example demonstrate the use of `%nuclio` magic commands to specify environment variables, package dependencies,<br>configurations (such as the cron schedule), and to deploy functions automatically onto a cluster."
   ]
  },
  {
   "cell_type": "code",
   "execution_count": 1,
   "metadata": {},
   "outputs": [],
   "source": [
    "# if the nuclio-jupyter package is not installed run !pip install nuclio-jupyter\n",
    "import nuclio "
   ]
  },
  {
   "cell_type": "markdown",
   "metadata": {},
   "source": [
    "## Environment"
   ]
  },
  {
   "cell_type": "markdown",
   "metadata": {},
   "source": [
    "copy the local credentials to the nuclio function config (-c option doesn't initialize locally)"
   ]
  },
  {
   "cell_type": "code",
   "execution_count": 2,
   "metadata": {},
   "outputs": [],
   "source": [
    "%nuclio env -c V3IO_ACCESS_KEY=${V3IO_ACCESS_KEY}\n",
    "%nuclio env -c V3IO_USERNAME=${V3IO_USERNAME}\n",
    "%nuclio env -c V3IO_API=${V3IO_API}"
   ]
  },
  {
   "cell_type": "markdown",
   "metadata": {},
   "source": [
    "### Set function configuration \n",
    "use a cron trigger with 5min interval and define the base image<br>\n",
    "for more details check [nuclio function configuration reference](https://github.com/nuclio/nuclio/blob/master/docs/reference/function-configuration/function-configuration-reference.md)"
   ]
  },
  {
   "cell_type": "code",
   "execution_count": 3,
   "metadata": {},
   "outputs": [
    {
     "name": "stdout",
     "output_type": "stream",
     "text": [
      "%nuclio: setting spec.triggers.secs.kind to 'cron'\n",
      "%nuclio: setting spec.triggers.secs.attributes.interval to '300s'\n",
      "%nuclio: setting spec.build.baseImage to 'python:3.6-jessie'\n"
     ]
    }
   ],
   "source": [
    "%%nuclio config \n",
    "spec.triggers.secs.kind = \"cron\"\n",
    "spec.triggers.secs.attributes.interval = \"300s\"\n",
    "spec.build.baseImage = \"python:3.6-jessie\""
   ]
  },
  {
   "cell_type": "markdown",
   "metadata": {},
   "source": [
    "### Install required packages\n",
    "`%nuclio cmd` allows you to run image build instructions and install packages<br>\n",
    "Note: `-c` option will only install in nuclio, not locally"
   ]
  },
  {
   "cell_type": "code",
   "execution_count": 4,
   "metadata": {},
   "outputs": [],
   "source": [
    "%%nuclio cmd -c \n",
    "pip install lxml\n",
    "pip install yfinance\n",
    "pip install requests\n",
    "pip install v3io_frames"
   ]
  },
  {
   "cell_type": "markdown",
   "metadata": {},
   "source": [
    "## Nuclio function implementation\n",
    "this function can run in Jupyter or in nuclio (real-time serverless)"
   ]
  },
  {
   "cell_type": "code",
   "execution_count": 5,
   "metadata": {},
   "outputs": [],
   "source": [
    "# nuclio: start-code"
   ]
  },
  {
   "cell_type": "code",
   "execution_count": 6,
   "metadata": {},
   "outputs": [],
   "source": [
    "import json\n",
    "import requests\n",
    "import yfinance as yf\n",
    "import os\n",
    "import pandas as pd\n",
    "import datetime\n",
    "import v3io_frames as v3f\n",
    "import ast"
   ]
  },
  {
   "cell_type": "code",
   "execution_count": 7,
   "metadata": {},
   "outputs": [],
   "source": [
    "def read_stocks(context, periods='5m'):\n",
    "    stocks=[]; times=[]; volumes=[]; prices=[]\n",
    "    \n",
    "    for sym in context.stock_syms:\n",
    "        hist = yf.Ticker(sym).history(period=periods, interval='1m')\n",
    "        time = hist.index[len(hist) - 1]\n",
    "        record = hist.loc[time]\n",
    "        last = context.last_trade_times.get(sym)\n",
    "        context.logger.info(f'Received {sym} data from yfinance, including {len(hist)} candles ending at {last}')\n",
    "\n",
    "        \n",
    "        # update the stocks table and TSDB metrics in case of new data \n",
    "        if not last or time > last:\n",
    "            \n",
    "            if last is not None:\n",
    "                hist = hist[hist.index > last]\n",
    "            \n",
    "            # update NoSQL table with stock data\n",
    "            stock = {'symbol': sym, 'price': record['Close'], 'volume': record['Volume'], 'last_updated': time}\n",
    "            expr = context.expr_template.format(**stock)\n",
    "            context.logger.debug_with('update expression', symbol=sym, expr=expr)\n",
    "            context.v3c.execute('kv', context.stocks_kv_table, 'update', args={'key': sym, 'expression': expr})\n",
    "            context.logger.info(f'Updated records from {last} to {time}')\n",
    "            # update time-series DB with price and volume metrics (use pandas dataframe with a single row, indexed by date)\n",
    "            context.last_trade_times[sym] = time \n",
    "            \n",
    "            df = hist[['Close', 'Volume']].copy()\n",
    "            df.rename(columns={'Close': 'price', 'Volume': 'volume'}, inplace=True)\n",
    "            df['symbol'] = sym\n",
    "            df.set_index(['symbol'], append=True, inplace=True)\n",
    "            context.v3c.write(backend='tsdb', table=context.stocks_tsdb_table, dfs=df)\n",
    "            context.logger.info(f'Updated TSDB {len(df)} records')\n",
    "\n",
    "#            stocks += [sym]\n",
    "#            times +=[time]\n",
    "#            volumes += [record['Volume']]\n",
    "#            prices += [record['Close']]\n",
    "        else:\n",
    "            context.logger.info(f'No update was made, current TS: {last} vs. new data {time}')\n",
    "               \n",
    "    # write price and volume metrics to the Time-Series DB, add exchange label\n",
    "#    if len(stocks)>0:\n",
    "#        df = pd.DataFrame({'volume':hist['volume'],'price': hist['close']}, index=[times,stocks], columns=['volume','price'])\n",
    "#        df.index.names=['time','symbol']\n",
    "#        context.logger.debug_with('writing data to TSDB', stocks=stocks)\n",
    "#        context.v3c.write(backend='tsdb', table=context.stocks_tsdb_table, dfs=df)\n"
   ]
  },
  {
   "cell_type": "code",
   "execution_count": 8,
   "metadata": {},
   "outputs": [],
   "source": [
    "def init_context(context):\n",
    "    # Setup V3IO Client\n",
    "    client = v3f.Client('framesd:8081',container=os.getenv('V3IO_CONTAINER', 'bigdata'))\n",
    "    setattr(context, 'v3c', client)\n",
    "    \n",
    "    # Create V3IO Tables and add reference to context\n",
    "    setattr(context, 'stocks_kv_table', os.getenv('STOCKS_KV_TABLE', 'stocks/stocks_kv'))\n",
    "    setattr(context, 'stocks_tsdb_table', os.getenv('STOCKS_TSDB_TABLE', 'stocks/stocks_tsdb'))\n",
    "    context.v3c.create(backend='tsdb', table=context.stocks_tsdb_table, rate='1/m', if_exists=1)\n",
    "    \n",
    "    stocks = os.getenv('STOCK_LIST','GOOG,MSFT,AMZN,AAPL,INTC')\n",
    "    if stocks.startswith('['):\n",
    "        stock_syms = ast.literal_eval(stocks)\n",
    "    else: \n",
    "        stock_syms = stocks.split(',')\n",
    "    setattr(context, 'stock_syms', stock_syms)\n",
    "    \n",
    "\n",
    "    # v3io update expression template \n",
    "    expr_template = os.getenv('EXPRESSION_TEMPLATE', \"symbol='{symbol}';price={price};volume={volume};last_updated='{last_updated}'\")\n",
    "    setattr(context, 'expr_template', expr_template)\n",
    "\n",
    "    last_trade_times = {}\n",
    "    setattr(context, 'last_trade_times', last_trade_times)\n",
    "    \n",
    "    read_stocks(context, '7d')"
   ]
  },
  {
   "cell_type": "code",
   "execution_count": 9,
   "metadata": {},
   "outputs": [],
   "source": [
    "def handler(context, event):\n",
    "    \n",
    "    read_stocks(context)\n",
    "    return 'done'"
   ]
  },
  {
   "cell_type": "code",
   "execution_count": 10,
   "metadata": {},
   "outputs": [],
   "source": [
    "# nuclio: end-code"
   ]
  },
  {
   "cell_type": "markdown",
   "metadata": {},
   "source": [
    "## Function invocation\n",
    "### Local test\n",
    "the following section simulates nuclio function invocation and will emit the function results"
   ]
  },
  {
   "cell_type": "code",
   "execution_count": 11,
   "metadata": {},
   "outputs": [
    {
     "name": "stdout",
     "output_type": "stream",
     "text": [
      "Python> 2020-09-27 12:37:03,053 [info] Received GOOG data from yfinance, including 2702 candles ending at None\n",
      "Python> 2020-09-27 12:37:03,056 [info] Updated records from None to 2020-09-25 15:59:00-04:00\n",
      "Python> 2020-09-27 12:37:03,137 [info] Updated TSDB 2702 records\n",
      "Python> 2020-09-27 12:37:03,748 [info] Received MSFT data from yfinance, including 2724 candles ending at None\n",
      "Python> 2020-09-27 12:37:03,751 [info] Updated records from None to 2020-09-25 15:59:00-04:00\n",
      "Python> 2020-09-27 12:37:03,830 [info] Updated TSDB 2724 records\n",
      "Python> 2020-09-27 12:37:04,274 [info] Received AMZN data from yfinance, including 2724 candles ending at None\n",
      "Python> 2020-09-27 12:37:04,278 [info] Updated records from None to 2020-09-25 15:59:00-04:00\n",
      "Python> 2020-09-27 12:37:04,349 [info] Updated TSDB 2724 records\n",
      "Python> 2020-09-27 12:37:04,695 [info] Received AAPL data from yfinance, including 2724 candles ending at None\n",
      "Python> 2020-09-27 12:37:04,698 [info] Updated records from None to 2020-09-25 15:59:00-04:00\n",
      "Python> 2020-09-27 12:37:04,766 [info] Updated TSDB 2724 records\n",
      "Python> 2020-09-27 12:37:05,314 [info] Received INTC data from yfinance, including 2724 candles ending at None\n",
      "Python> 2020-09-27 12:37:05,319 [info] Updated records from None to 2020-09-25 15:59:00-04:00\n",
      "Python> 2020-09-27 12:37:05,390 [info] Updated TSDB 2724 records\n",
      "Python> 2020-09-27 12:37:05,529 [info] Received GOOG data from yfinance, including 5 candles ending at 2020-09-25 15:59:00-04:00\n",
      "Python> 2020-09-27 12:37:05,530 [info] No update was made, current TS: 2020-09-25 15:59:00-04:00 vs. new data 2020-09-25 15:59:00-04:00\n",
      "Python> 2020-09-27 12:37:05,630 [info] Received MSFT data from yfinance, including 5 candles ending at 2020-09-25 15:59:00-04:00\n",
      "Python> 2020-09-27 12:37:05,631 [info] No update was made, current TS: 2020-09-25 15:59:00-04:00 vs. new data 2020-09-25 15:59:00-04:00\n",
      "Python> 2020-09-27 12:37:05,921 [info] Received AMZN data from yfinance, including 5 candles ending at 2020-09-25 15:59:00-04:00\n",
      "Python> 2020-09-27 12:37:05,922 [info] No update was made, current TS: 2020-09-25 15:59:00-04:00 vs. new data 2020-09-25 15:59:00-04:00\n",
      "Python> 2020-09-27 12:37:06,019 [info] Received AAPL data from yfinance, including 5 candles ending at 2020-09-25 15:59:00-04:00\n",
      "Python> 2020-09-27 12:37:06,019 [info] No update was made, current TS: 2020-09-25 15:59:00-04:00 vs. new data 2020-09-25 15:59:00-04:00\n",
      "Python> 2020-09-27 12:37:06,116 [info] Received INTC data from yfinance, including 5 candles ending at 2020-09-25 15:59:00-04:00\n",
      "Python> 2020-09-27 12:37:06,116 [info] No update was made, current TS: 2020-09-25 15:59:00-04:00 vs. new data 2020-09-25 15:59:00-04:00\n"
     ]
    },
    {
     "data": {
      "text/plain": [
       "'done'"
      ]
     },
     "execution_count": 11,
     "metadata": {},
     "output_type": "execute_result"
    }
   ],
   "source": [
    "# create a test event and invoke the function locally \n",
    "init_context(context)\n",
    "event = nuclio.Event(body='')\n",
    "handler(context, event)"
   ]
  },
  {
   "cell_type": "markdown",
   "metadata": {},
   "source": [
    "## Deploy to cluster"
   ]
  },
  {
   "cell_type": "code",
   "execution_count": 12,
   "metadata": {},
   "outputs": [
    {
     "name": "stdout",
     "output_type": "stream",
     "text": [
      "> 2020-09-27 12:37:09,336 [info] function spec saved to path: 03-read-stocks.yaml\n"
     ]
    },
    {
     "data": {
      "text/plain": [
       "<mlrun.runtimes.function.RemoteRuntime at 0x7f8de4baffd0>"
      ]
     },
     "execution_count": 12,
     "metadata": {},
     "output_type": "execute_result"
    }
   ],
   "source": [
    "from mlrun import code_to_function\n",
    "\n",
    "environment_variables = {'STOCK_LIST': ['GOOG', 'MSFT', 'AMZN', 'AAPL', 'INTC'],\n",
    "                         'V3IO_CONTAINER': 'bigdata',\n",
    "                         'STOCKS_TSDB_TABLE': 'stocks/stocks_tsdb',\n",
    "                         'STOCKS_KV_TABLE': 'stocks/stocks_kv',\n",
    "                         'EXPRESSION_TEMPLATE': \"symbol='{symbol}';price={price};volume={volume};last_updated='{last_updated}'\"}\n",
    "\n",
    "fn = code_to_function('read-stocks',\n",
    "                      kind='nuclio',\n",
    "                      handler='handler')\n",
    "fn.export('03-read-stocks.yaml')\n",
    "fn.set_envs(environment_variables)"
   ]
  },
  {
   "cell_type": "code",
   "execution_count": 13,
   "metadata": {},
   "outputs": [
    {
     "name": "stdout",
     "output_type": "stream",
     "text": [
      "> 2020-09-27 12:37:09,343 [info] deploy started\n",
      "[nuclio] 2020-09-27 12:37:15,498 (info) Build complete\n",
      "[nuclio] 2020-09-27 12:37:21,566 (info) Function deploy complete\n",
      "[nuclio] 2020-09-27 12:37:21,577 done creating stocks-read-stocks, function address: 3.23.175.159:31675\n"
     ]
    },
    {
     "data": {
      "text/plain": [
       "'http://3.23.175.159:31675'"
      ]
     },
     "execution_count": 13,
     "metadata": {},
     "output_type": "execute_result"
    }
   ],
   "source": [
    "fn.deploy(project='stocks')"
   ]
  }
 ],
 "metadata": {
  "kernelspec": {
   "display_name": "Python 3",
   "language": "python",
   "name": "python3"
  },
  "language_info": {
   "codemirror_mode": {
    "name": "ipython",
    "version": 3
   },
   "file_extension": ".py",
   "mimetype": "text/x-python",
   "name": "python",
   "nbconvert_exporter": "python",
   "pygments_lexer": "ipython3",
   "version": "3.7.6"
  },
  "toc-autonumbering": false
 },
 "nbformat": 4,
 "nbformat_minor": 4
}
