{
 "cells": [
  {
   "cell_type": "markdown",
   "metadata": {},
   "source": [
    "# Traing BERT sentiment analysis model"
   ]
  },
  {
   "cell_type": "code",
   "execution_count": 1,
   "metadata": {},
   "outputs": [],
   "source": [
    "import nuclio"
   ]
  },
  {
   "cell_type": "markdown",
   "metadata": {},
   "source": [
    "## Environment"
   ]
  },
  {
   "cell_type": "code",
   "execution_count": 2,
   "metadata": {
    "colab": {
     "base_uri": "https://localhost:8080/",
     "height": 615
    },
    "colab_type": "code",
    "collapsed": true,
    "id": "ucTPIIJy8QjS",
    "jupyter": {
     "outputs_hidden": true
    },
    "outputId": "ab54a2ea-8cb6-4925-a9e8-e506f804cbf4"
   },
   "outputs": [
    {
     "name": "stdout",
     "output_type": "stream",
     "text": [
      "Collecting transformers==3.0.1\n",
      "\u001b[?25l  Downloading https://files.pythonhosted.org/packages/82/25/89050e69ed53c2a3b7f8c67844b3c8339c1192612ba89a172cf85b298948/transformers-3.0.1-py3-none-any.whl (757kB)\n",
      "\u001b[K    100% |████████████████████████████████| 757kB 2.1MB/s ta 0:00:01\n",
      "\u001b[?25hCollecting torch==1.6.0\n",
      "\u001b[?25l  Downloading https://files.pythonhosted.org/packages/5d/5e/35140615fc1f925023f489e71086a9ecc188053d263d3594237281284d82/torch-1.6.0-cp37-cp37m-manylinux1_x86_64.whl (748.8MB)\n",
      "\u001b[K    100% |████████████████████████████████| 748.8MB 55kB/s  eta 0:00:01                       | 59.6MB 57.6MB/s eta 0:00:12                         | 65.3MB 59.9MB/s eta 0:00:12                     | 82.0MB 69.7MB/s eta 0:00:10          | 119.1MB 54.1MB/s eta 0:00:121109�████▎               | 379.8MB 66.9MB/s eta 0:00:06�████▍               | 384.0MB 61.0MB/s eta 0:00:06��████████               | 395.6MB 62.7MB/s eta 0:00:06█████▍            | 453.8MB 52.8MB/s eta 0:00:06\n",
      "\u001b[?25hCollecting sacremoses (from transformers==3.0.1)\n",
      "\u001b[?25l  Downloading https://files.pythonhosted.org/packages/7d/34/09d19aff26edcc8eb2a01bed8e98f13a1537005d31e95233fd48216eed10/sacremoses-0.0.43.tar.gz (883kB)\n",
      "\u001b[K    100% |████████████████████████████████| 890kB 19.9MB/s ta 0:00:01\n",
      "\u001b[?25hCollecting tokenizers==0.8.0-rc4 (from transformers==3.0.1)\n",
      "\u001b[?25l  Downloading https://files.pythonhosted.org/packages/f7/82/0e82a95bd9db2b32569500cc1bb47aa7c4e0f57aa5e35cceba414096917b/tokenizers-0.8.0rc4-cp37-cp37m-manylinux1_x86_64.whl (3.0MB)\n",
      "\u001b[K    100% |████████████████████████████████| 3.0MB 12.7MB/s ta 0:00:01\n",
      "\u001b[?25hCollecting regex!=2019.12.17 (from transformers==3.0.1)\n",
      "\u001b[?25l  Downloading https://files.pythonhosted.org/packages/6a/7b/b23abb70e0a35b0663c9de6a7c340cdc5f502bbbf10b5fb7c1f4f13f575d/regex-2020.9.27-cp37-cp37m-manylinux1_x86_64.whl (662kB)\n",
      "\u001b[K    100% |████████████████████████████████| 665kB 24.2MB/s ta 0:00:01\n",
      "\u001b[?25hCollecting filelock (from transformers==3.0.1)\n",
      "  Downloading https://files.pythonhosted.org/packages/93/83/71a2ee6158bb9f39a90c0dea1637f81d5eef866e188e1971a1b1ab01a35a/filelock-3.0.12-py3-none-any.whl\n",
      "Requirement already satisfied: numpy in /conda/lib/python3.7/site-packages (from transformers==3.0.1) (1.19.1)\n",
      "Requirement already satisfied: requests in /conda/lib/python3.7/site-packages (from transformers==3.0.1) (2.21.0)\n",
      "Requirement already satisfied: tqdm>=4.27 in /conda/lib/python3.7/site-packages (from transformers==3.0.1) (4.48.2)\n",
      "Collecting sentencepiece!=0.1.92 (from transformers==3.0.1)\n",
      "\u001b[?25l  Downloading https://files.pythonhosted.org/packages/f2/e2/813dff3d72df2f49554204e7e5f73a3dc0f0eb1e3958a4cad3ef3fb278b7/sentencepiece-0.1.91-cp37-cp37m-manylinux1_x86_64.whl (1.1MB)\n",
      "\u001b[K    100% |████████████████████████████████| 1.1MB 21.6MB/s ta 0:00:01\n",
      "\u001b[?25hRequirement already satisfied: packaging in /conda/lib/python3.7/site-packages (from transformers==3.0.1) (20.4)\n",
      "Requirement already satisfied: future in /conda/lib/python3.7/site-packages (from torch==1.6.0) (0.18.2)\n",
      "Requirement already satisfied: six in /conda/lib/python3.7/site-packages (from sacremoses->transformers==3.0.1) (1.12.0)\n",
      "Requirement already satisfied: click in /conda/lib/python3.7/site-packages (from sacremoses->transformers==3.0.1) (7.0)\n",
      "Requirement already satisfied: joblib in /conda/lib/python3.7/site-packages (from sacremoses->transformers==3.0.1) (0.16.0)\n",
      "Requirement already satisfied: urllib3<1.25,>=1.21.1 in /User/.pythonlibs/jupyter/lib/python3.7/site-packages (from requests->transformers==3.0.1) (1.24.3)\n",
      "Requirement already satisfied: idna<2.9,>=2.5 in /conda/lib/python3.7/site-packages (from requests->transformers==3.0.1) (2.8)\n",
      "Requirement already satisfied: chardet<3.1.0,>=3.0.2 in /conda/lib/python3.7/site-packages (from requests->transformers==3.0.1) (3.0.4)\n",
      "Requirement already satisfied: certifi>=2017.4.17 in /conda/lib/python3.7/site-packages (from requests->transformers==3.0.1) (2020.6.20)\n",
      "Requirement already satisfied: pyparsing>=2.0.2 in /conda/lib/python3.7/site-packages (from packaging->transformers==3.0.1) (2.4.7)\n",
      "Building wheels for collected packages: sacremoses\n",
      "  Running setup.py bdist_wheel for sacremoses ... \u001b[?25ldone\n",
      "\u001b[?25h  Stored in directory: /igz/.cache/pip/wheels/29/3c/fd/7ce5c3f0666dab31a50123635e6fb5e19ceb42ce38d4e58f45\n",
      "Successfully built sacremoses\n",
      "Installing collected packages: regex, sacremoses, tokenizers, filelock, sentencepiece, transformers, torch\n",
      "  Found existing installation: torch 1.4.0\n",
      "    Uninstalling torch-1.4.0:\n",
      "      Successfully uninstalled torch-1.4.0\n",
      "Successfully installed filelock-3.0.12 regex-2020.9.27 sacremoses-0.0.43 sentencepiece-0.1.91 tokenizers-0.8.0rc4 torch-1.6.0 transformers-3.0.1\n"
     ]
    }
   ],
   "source": [
    "%nuclio cmd python -m pip install transformers==3.0.1 torch==1.6.0"
   ]
  },
  {
   "cell_type": "markdown",
   "metadata": {},
   "source": [
    "## Function"
   ]
  },
  {
   "cell_type": "code",
   "execution_count": 3,
   "metadata": {},
   "outputs": [],
   "source": [
    "#nuclio: start-code"
   ]
  },
  {
   "cell_type": "code",
   "execution_count": 4,
   "metadata": {
    "colab": {
     "base_uri": "https://localhost:8080/",
     "height": 71
    },
    "colab_type": "code",
    "id": "XpEvMc9v-hla",
    "outputId": "551914c8-e8e7-412a-92d0-2688ef4f47ea"
   },
   "outputs": [],
   "source": [
    "import os\n",
    "import pandas as pd\n",
    "from transformers import BertTokenizer, AdamW, get_linear_schedule_with_warmup, BertModel\n",
    "import torch\n",
    "import torch.nn as nn\n",
    "from torch.utils import data\n",
    "import matplotlib.pyplot as plt\n",
    "from sklearn.model_selection import train_test_split\n",
    "import numpy as np\n",
    "import seaborn as sns\n",
    "from collections import defaultdict\n",
    "from mlrun.artifacts import PlotArtifact, ChartArtifact, TableArtifact\n",
    "from mlrun.datastore import DataItem\n",
    "from mlrun import MLClientCtx"
   ]
  },
  {
   "cell_type": "code",
   "execution_count": 5,
   "metadata": {},
   "outputs": [],
   "source": [
    "class BertSentimentClassifier(nn.Module):\n",
    "    def __init__(self, pretrained_model, n_classes):\n",
    "        super(BertSentimentClassifier, self).__init__()\n",
    "        self.bert = BertModel.from_pretrained(pretrained_model)\n",
    "        self.dropout = nn.Dropout(p=0.2)\n",
    "        self.out_linear = nn.Linear(self.bert.config.hidden_size, n_classes)\n",
    "        self.softmax = nn.Softmax(dim=1)\n",
    "\n",
    "    def forward(self, input_ids, attention_mask):\n",
    "        _, pooled_out = self.bert(\n",
    "            input_ids=input_ids,\n",
    "            attention_mask=attention_mask\n",
    "        )\n",
    "        out = self.dropout(pooled_out)\n",
    "        out = self.out_linear(out)\n",
    "        return self.softmax(out)"
   ]
  },
  {
   "cell_type": "code",
   "execution_count": 6,
   "metadata": {
    "colab": {},
    "colab_type": "code",
    "id": "LA_e_S8b8Qjo"
   },
   "outputs": [],
   "source": [
    "class ReviewsDataset(data.Dataset):\n",
    "    def __init__(self, review, target, tokenizer, max_len):\n",
    "        self.review = review\n",
    "        self.target = target\n",
    "        self.tokenizer = tokenizer\n",
    "        self.max_len = max_len\n",
    "    \n",
    "    def __len__(self):\n",
    "        return len(self.review)\n",
    "    \n",
    "    def __getitem__(self, item):\n",
    "        review = str(self.review[item])\n",
    "        enc = self.tokenizer.encode_plus(\n",
    "            review,\n",
    "            max_length=self.max_len,\n",
    "            add_special_tokens=True,\n",
    "            pad_to_max_length=True,\n",
    "            return_attention_mask=True,\n",
    "            return_token_type_ids=False,\n",
    "            return_tensors='pt',\n",
    "            truncation=True)\n",
    "        \n",
    "        return {'input_ids': enc['input_ids'].squeeze(0), \n",
    "                'attention_mask': enc['attention_mask'].squeeze(0),\n",
    "                'targets': torch.tensor(self.target[item], dtype=torch.long)}"
   ]
  },
  {
   "cell_type": "code",
   "execution_count": 7,
   "metadata": {
    "colab": {},
    "colab_type": "code",
    "id": "4NVlWc-o8Qjh"
   },
   "outputs": [],
   "source": [
    "def score_to_sents(score):\n",
    "    if score <= 2:\n",
    "        return 0\n",
    "    if score == 3:\n",
    "        return 1\n",
    "    return 2"
   ]
  },
  {
   "cell_type": "code",
   "execution_count": 8,
   "metadata": {},
   "outputs": [],
   "source": [
    "def create_data_loader(df, tokenizer, max_len, batch_size):\n",
    "    dataset = ReviewsDataset(\n",
    "        review=df.content.to_numpy(),\n",
    "        target=df.sentiment.to_numpy(),\n",
    "        tokenizer=tokenizer,\n",
    "        max_len=max_len)\n",
    "    \n",
    "    return data.DataLoader(dataset, batch_size=batch_size, num_workers=4)"
   ]
  },
  {
   "cell_type": "code",
   "execution_count": 9,
   "metadata": {},
   "outputs": [],
   "source": [
    "def train_epoch(\n",
    "    model,\n",
    "    data_loader,\n",
    "    criterion,\n",
    "    optimizer,\n",
    "    scheduler,\n",
    "    n_examples,\n",
    "    device\n",
    "):\n",
    "    model.train()\n",
    "    losses = []\n",
    "    correct_preds = 0\n",
    "    \n",
    "    for i, d in enumerate(data_loader):\n",
    "        if i % 50 == 0:\n",
    "            print(f'batch {i + 1}/ {len(data_loader)}')\n",
    "        input_ids = d['input_ids'].to(device)\n",
    "        attention_mask = d['attention_mask'].to(device)\n",
    "        targets = d['targets'].to(device)\n",
    "        \n",
    "        outputs = model(\n",
    "            input_ids=input_ids,\n",
    "            attention_mask=attention_mask\n",
    "        )\n",
    "        \n",
    "        _, pred = torch.max(outputs, dim=1)\n",
    "        \n",
    "        loss = criterion(outputs, targets)\n",
    "        correct_preds += torch.sum(pred == targets)\n",
    "        losses.append(loss.item())\n",
    "        \n",
    "        loss.backward()\n",
    "        nn.utils.clip_grad_norm_(model.parameters(), max_norm=1.0)\n",
    "        optimizer.step()\n",
    "        scheduler.step()\n",
    "        optimizer.zero_grad()\n",
    "    return (correct_preds.double() / n_examples).detach().cpu().numpy(), np.mean(losses)"
   ]
  },
  {
   "cell_type": "code",
   "execution_count": 10,
   "metadata": {},
   "outputs": [],
   "source": [
    "def eval_model(\n",
    "    model,\n",
    "    data_loader,\n",
    "    criterion,\n",
    "    n_examples,\n",
    "    device\n",
    "):\n",
    "    print('evaluation')\n",
    "    model = model.eval()\n",
    "    correct_preds = 0\n",
    "    losses = []\n",
    "    \n",
    "    with torch.no_grad():\n",
    "        for i, d in enumerate(data_loader):\n",
    "            if i % 50 == 0:\n",
    "                print(f'batch {i + 1}/ {len(data_loader)}')\n",
    "            input_ids = d['input_ids'].to(device)\n",
    "            attention_mask = d['attention_mask'].to(device)\n",
    "            targets = d['targets'].to(device)\n",
    "            \n",
    "            outputs = model(\n",
    "                input_ids=input_ids,\n",
    "                attention_mask=attention_mask\n",
    "            )\n",
    "            \n",
    "            _, pred = torch.max(outputs, dim=1)\n",
    "\n",
    "            loss = criterion(outputs, targets)\n",
    "            correct_preds += torch.sum(pred == targets)\n",
    "            losses.append(loss.item())\n",
    "    return (correct_preds.double() / n_examples).detach().cpu().numpy(), np.mean(losses)"
   ]
  },
  {
   "cell_type": "code",
   "execution_count": 11,
   "metadata": {},
   "outputs": [],
   "source": [
    "def eval_on_test(model_path, data_loader, device, n_examples, pretrained_model, n_classes):\n",
    "    model = BertSentimentClassifier(pretrained_model, n_classes).to(device)\n",
    "    model.load_state_dict(torch.load(model_path))\n",
    "    model.eval()\n",
    "\n",
    "    correct_preds = 0\n",
    "\n",
    "    with torch.no_grad():\n",
    "        for i, d in enumerate(data_loader):\n",
    "            if i % 50 == 0:\n",
    "                print(f'batch {i + 1}/ {len(data_loader)}')\n",
    "\n",
    "            input_ids = d['input_ids'].to(device)\n",
    "            attention_mask = d['attention_mask'].to(device)\n",
    "            targets = d['targets'].to(device)\n",
    "\n",
    "            outputs = model(\n",
    "                input_ids=input_ids,\n",
    "                attention_mask=attention_mask\n",
    "            )\n",
    "\n",
    "            _, pred = torch.max(outputs, dim=1)\n",
    "            correct_preds += torch.sum(pred == targets)\n",
    "    return correct_preds.double() / n_examples"
   ]
  },
  {
   "cell_type": "code",
   "execution_count": 12,
   "metadata": {},
   "outputs": [],
   "source": [
    "def train_sentiment_analysis_model(context: MLClientCtx, \n",
    "                                   reviews_dataset: DataItem,\n",
    "                                   pretrained_model: str = 'bert-base-cased', \n",
    "                                   models_dir: str = 'models',\n",
    "                                   model_filename: str = 'bert_sentiment_analysis_model.pt',\n",
    "                                   n_classes: int = 3,\n",
    "                                   MAX_LEN: int = 128,\n",
    "                                   BATCH_SIZE: int = 16,\n",
    "                                   EPOCHS: int = 50,\n",
    "                                   random_state: int = 42):\n",
    "\n",
    "    # Check for CPU or GPU \n",
    "    device = torch.device('cuda:0') if torch.cuda.is_available() else torch.device('cpu')\n",
    "    base_path = os.path.abspath(context.artifact_path)\n",
    "    plots_path = os.path.join(base_path, 'plots')\n",
    "    data_path = os.path.join(base_path, 'data')\n",
    "    context.logger.info(f'Using {device}')\n",
    "    \n",
    "    models_basepath = os.path.join(context.artifact_path, models_dir)\n",
    "    os.makedirs(models_basepath, exist_ok=True)\n",
    "    model_filepath = os.path.join(models_basepath, model_filename)\n",
    "    \n",
    "    # Get dataset\n",
    "    df = reviews_dataset.as_df()\n",
    "    \n",
    "    # Save score plot\n",
    "    df = df[['content', 'score']]\n",
    "    sns.distplot(df.score)\n",
    "    reviews_scores_artifact = context.log_artifact(PlotArtifact(f\"reviews-scores\", body=plt.gcf()),\n",
    "                                                   target_path=f\"{plots_path}/reviews-scores.html\")\n",
    "    \n",
    "    # Turn scores to sentiment label\n",
    "    df['sentiment'] = df['score'].apply(score_to_sents)\n",
    "    \n",
    "    # Load bert tokenizer\n",
    "    tokenizer = BertTokenizer.from_pretrained(pretrained_model)\n",
    "    \n",
    "    # Tokenize reviews\n",
    "    lens = [len(tokenizer.encode(df.loc[review]['content'])) for review in df.index]\n",
    "    max_length = max(lens)\n",
    "    context.logger.info(f'longest review: {max_length}')\n",
    "    plt.clf()\n",
    "    sns.distplot(lens)\n",
    "    reviews_lengths_artifact = context.log_artifact(PlotArtifact(f\"reviews-lengths\", body=plt.gcf()),\n",
    "                                                    target_path=f\"{plots_path}/reviews-lengths.html\")\n",
    "    \n",
    "    # Create training and validation datasets\n",
    "    df_train, df_test = train_test_split(df, test_size=0.2, random_state=random_state)\n",
    "    df_dev, df_test = train_test_split(df_test, test_size = 0.5, random_state=random_state)\n",
    "    \n",
    "    # Create dataloaders for all datasets\n",
    "    train_loader = create_data_loader(df_train, tokenizer, MAX_LEN, BATCH_SIZE)\n",
    "    dev_loader = create_data_loader(df_dev, tokenizer, MAX_LEN, BATCH_SIZE)\n",
    "    test_loader = create_data_loader(df_test, tokenizer, MAX_LEN, BATCH_SIZE)\n",
    "    \n",
    "    # Load the bert sentiment classifier base\n",
    "    model = BertSentimentClassifier(pretrained_model, n_classes=n_classes).to(device)\n",
    "    \n",
    "    # training\n",
    "    optimizer = AdamW(model.parameters(), lr=2e-5, correct_bias=False)\n",
    "    total_steps = len(train_loader) * EPOCHS\n",
    "    scheduler = get_linear_schedule_with_warmup(optimizer=optimizer, num_warmup_steps=0, num_training_steps=total_steps)\n",
    "    criterion = nn.CrossEntropyLoss().to(device)\n",
    "    \n",
    "    history = defaultdict(list)\n",
    "    best_acc = 0\n",
    "\n",
    "    context.logger.info('Started training the model')\n",
    "    for epoch in range(EPOCHS):\n",
    "        train_acc, train_loss = train_epoch(\n",
    "            model,\n",
    "            train_loader,\n",
    "            criterion,\n",
    "            optimizer,\n",
    "            scheduler,\n",
    "            len(df_train),\n",
    "            device\n",
    "        )\n",
    "        \n",
    "        dev_acc, dev_loss = eval_model(\n",
    "            model,\n",
    "            dev_loader,\n",
    "            criterion,\n",
    "            len(df_dev),\n",
    "            device\n",
    "        )\n",
    "\n",
    "        # Append results to history\n",
    "        history['train_acc'].append(train_acc)\n",
    "        history['train_loss'].append(train_loss)\n",
    "        history['dev_acc'].append(dev_acc)\n",
    "        history['dev_loss'].append(dev_loss)\n",
    "        context.logger.info(f'Epoch: {epoch + 1}/{EPOCHS}: Train loss: {train_loss}, accuracy: {train_acc} Val loss: {dev_loss}, accuracy: {dev_acc}')\n",
    "\n",
    "        if dev_acc > best_acc:\n",
    "            torch.save(model.state_dict(), model_filepath)\n",
    "            context.logger.info(f'Updating model, Current models is better then the previous one ({best_acc} vs. {dev_acc}).')\n",
    "            best_acc = dev_acc\n",
    "        chart = ChartArtifact('summary')\n",
    "        chart.header = ['epoch', 'accuracy', 'val_accuracy', 'loss', 'val_loss']\n",
    "        for i in range(EPOCHS):\n",
    "            chart.add_row([i + 1, history['train_acc'][i],\n",
    "                           history['train_loss'][i],\n",
    "                           history['dev_acc'][i],\n",
    "                           history['dev_loss'][i]])\n",
    "        summary = context.log_artifact(chart, local_path=os.path.join('plots', 'summary.html'))\n",
    "        \n",
    "        history_df = pd.DataFrame(history)\n",
    "        history_table = TableArtifact('history', df=history_df)\n",
    "        history_artifact = context.log_artifact(history_table, target_path=os.path.join(data_path, 'history.csv'))\n",
    "        \n",
    "        test_acc = eval_on_test(model_filepath, test_loader, device, len(df_test), pretrained_model, n_classes)\n",
    "        context.logger.info(f'Received {test_acc} on test dataset')\n",
    "        results = {'train_accuracy': train_acc,\n",
    "                   'train_loss': train_loss,\n",
    "                   'best_acccuracy': best_acc,\n",
    "                   'validation_accuracy': dev_acc,\n",
    "                   'validation_loss': dev_loss}\n",
    "        context.log_results(results)\n",
    "        context.log_model(key='bert_sentiment_analysis_model',\n",
    "                          model_file=model_filename,\n",
    "                          model_dir=models_dir,\n",
    "                          artifact_path=context.artifact_path,\n",
    "                          upload=False,\n",
    "                          labels={'framework': 'pytorch',\n",
    "                                  'category': 'nlp',\n",
    "                                  'action': 'sentiment_analysis'},\n",
    "                          metrics=context.results,\n",
    "                          parameters={'pretrained_model': pretrained_model,\n",
    "                                      'MAX_LEN': MAX_LEN,\n",
    "                                      'BATCH_SIZE': BATCH_SIZE,\n",
    "                                      'EPOCHS': EPOCHS,\n",
    "                                      'random_state': random_state},\n",
    "                          extra_data={'reviews_scores': reviews_scores_artifact,\n",
    "                                      'reviews_length': reviews_lengths_artifact,\n",
    "                                      'training_history': history_artifact})\n",
    "    "
   ]
  },
  {
   "cell_type": "code",
   "execution_count": 13,
   "metadata": {},
   "outputs": [],
   "source": [
    "#nuclio: end-code"
   ]
  },
  {
   "cell_type": "markdown",
   "metadata": {},
   "source": [
    "## Test locally"
   ]
  },
  {
   "cell_type": "code",
   "execution_count": 14,
   "metadata": {},
   "outputs": [],
   "source": [
    "from mlrun import code_to_function, mount_v3io, run_local, NewTask\n",
    "\n",
    "reviews_datafile = os.path.join(os.path.abspath('..'), 'data', 'reviews.csv')\n",
    "pretrained_model = 'bert-base-cased'\n",
    "\n",
    "task = NewTask(params={'pretrained_model': pretrained_model,\n",
    "                       'EPOCHS': 1},\n",
    "               inputs={'reviews_dataset': reviews_datafile})\n",
    "# lrun = run_local(task, handler=train_sentiment_analysis_model)"
   ]
  },
  {
   "cell_type": "markdown",
   "metadata": {},
   "source": [
    "## Deploy to cluster"
   ]
  },
  {
   "cell_type": "code",
   "execution_count": 15,
   "metadata": {},
   "outputs": [
    {
     "name": "stdout",
     "output_type": "stream",
     "text": [
      "> 2020-09-29 12:40:44,577 [info] function spec saved to path: bert_sentiment_classification.yaml\n"
     ]
    },
    {
     "data": {
      "text/plain": [
       "<mlrun.runtimes.kubejob.KubejobRuntime at 0x7f301f4156d0>"
      ]
     },
     "execution_count": 15,
     "metadata": {},
     "output_type": "execute_result"
    }
   ],
   "source": [
    "fn = code_to_function(name='train_sentiment_analysis',\n",
    "                      project='stocks',\n",
    "                      kind='job',\n",
    "                      image='mlrun/ml-models-gpu',\n",
    "                      handler='train_sentiment_analysis_model')\n",
    "fn.gpus(1)\n",
    "fn.export('bert_sentiment_classification.yaml')\n",
    "fn.apply(mount_v3io())"
   ]
  },
  {
   "cell_type": "code",
   "execution_count": null,
   "metadata": {},
   "outputs": [
    {
     "name": "stdout",
     "output_type": "stream",
     "text": [
      "> 2020-09-29 12:40:46,145 [info] starting run train-sentiment-analysis-train_sentiment_analysis_model uid=d209261d7bde4f37bcde84271c1749a2  -> http://mlrun-api:8080\n",
      "> 2020-09-29 12:40:46,291 [info] Job is running in the background, pod: train-sentiment-analysis-train-sentiment-analysis-model-n94zh\n"
     ]
    },
    {
     "name": "stderr",
     "output_type": "stream",
     "text": [
      "2020-09-29 12:45:38,523 WARNING Retrying (Retry(total=2, connect=None, read=None, redirect=None, status=None)) after connection broken by 'ReadTimeoutError(\"HTTPConnectionPool(host='mlrun-api', port=8080): Read timed out. (read timeout=20)\")': /api/log/stocks/d209261d7bde4f37bcde84271c1749a2?offset=0&size=-1\n",
      "2020-09-29 12:46:00,540 WARNING Retrying (Retry(total=1, connect=None, read=None, redirect=None, status=None)) after connection broken by 'ReadTimeoutError(\"HTTPConnectionPool(host='mlrun-api', port=8080): Read timed out. (read timeout=20)\")': /api/log/stocks/d209261d7bde4f37bcde84271c1749a2?offset=0&size=-1\n"
     ]
    },
    {
     "name": "stdout",
     "output_type": "stream",
     "text": [
      "Downloading: 100%|██████████| 213k/213k [00:00<00:00, 509kB/s]  \n",
      "Token indices sequence length is longer than the specified maximum sequence length for this model (518 > 512). Running this sequence through the model will result in indexing errors\n",
      "Token indices sequence length is longer than the specified maximum sequence length for this model (518 > 512). Running this sequence through the model will result in indexing errors\n",
      "Downloading: 100%|██████████| 433/433 [00:00<00:00, 254kB/s]\n",
      "Downloading: 100%|██████████| 436M/436M [00:08<00:00, 51.0MB/s] \n"
     ]
    }
   ],
   "source": [
    "run = fn.with_code().run(task, artifact_path='/User/demo-stocks/')"
   ]
  },
  {
   "cell_type": "code",
   "execution_count": null,
   "metadata": {},
   "outputs": [],
   "source": []
  }
 ],
 "metadata": {
  "colab": {
   "collapsed_sections": [],
   "name": "Copy of bert_sentiment_classification.ipynb",
   "provenance": [],
   "toc_visible": true
  },
  "kernelspec": {
   "display_name": "Python 3",
   "language": "python",
   "name": "python3"
  },
  "language_info": {
   "codemirror_mode": {
    "name": "ipython",
    "version": 3
   },
   "file_extension": ".py",
   "mimetype": "text/x-python",
   "name": "python",
   "nbconvert_exporter": "python",
   "pygments_lexer": "ipython3",
   "version": "3.7.6"
  }
 },
 "nbformat": 4,
 "nbformat_minor": 4
}
