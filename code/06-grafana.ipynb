{
 "cells": [
  {
   "cell_type": "markdown",
   "metadata": {},
   "source": [
    "# Create a Grafana Data Source and Dashboard"
   ]
  },
  {
   "cell_type": "markdown",
   "metadata": {},
   "source": [
    "Follow the steps in this this tutorial to create a \"stocks\" Grafana dashboard using Iguazio data source <br>\n",
    "Note that you need to create a Grafana service before running the notebook <br>\n",
    "Creating a grafana service can be done from the \"services\" screen in the Platform"
   ]
  },
  {
   "cell_type": "code",
   "execution_count": 9,
   "metadata": {},
   "outputs": [],
   "source": [
    "import nuclio"
   ]
  },
  {
   "cell_type": "markdown",
   "metadata": {},
   "source": [
    "## Environment"
   ]
  },
  {
   "cell_type": "code",
   "execution_count": 31,
   "metadata": {},
   "outputs": [
    {
     "name": "stdout",
     "output_type": "stream",
     "text": [
      "Collecting git+https://github.com/v3io/grafwiz\n",
      "  Cloning https://github.com/v3io/grafwiz to /tmp/pip-req-build-omi1hw7m\n",
      "Requirement already satisfied (use --upgrade to upgrade): grafwiz==0.1.0 from git+https://github.com/v3io/grafwiz in /User/.pythonlibs/jupyter/lib/python3.7/site-packages\n",
      "Requirement already satisfied: grafanalib==0.5.3 in /User/.pythonlibs/jupyter/lib/python3.7/site-packages (from grafwiz==0.1.0) (0.5.3)\n",
      "Requirement already satisfied: attrs==19.1.0 in /User/.pythonlibs/jupyter/lib/python3.7/site-packages (from grafwiz==0.1.0) (19.1.0)\n",
      "Building wheels for collected packages: grafwiz\n",
      "  Running setup.py bdist_wheel for grafwiz ... \u001b[?25ldone\n",
      "\u001b[?25h  Stored in directory: /tmp/pip-ephem-wheel-cache-r6t4pyvs/wheels/b2/74/24/52567131204eb68e9fb5cb64de7b99859c363820e3b0c68f65\n",
      "Successfully built grafwiz\n"
     ]
    }
   ],
   "source": [
    "%nuclio cmd python -m pip install git+https://github.com/v3io/grafwiz"
   ]
  },
  {
   "cell_type": "markdown",
   "metadata": {},
   "source": [
    "## Function"
   ]
  },
  {
   "cell_type": "code",
   "execution_count": 1,
   "metadata": {},
   "outputs": [],
   "source": [
    "# nuclio: start-code"
   ]
  },
  {
   "cell_type": "code",
   "execution_count": 10,
   "metadata": {},
   "outputs": [],
   "source": [
    "from grafwiz import *\n",
    "import os"
   ]
  },
  {
   "cell_type": "code",
   "execution_count": 11,
   "metadata": {},
   "outputs": [],
   "source": [
    "def deploy_dashboard(context, \n",
    "                     grafana_url:str = 'http://grafana', \n",
    "                     streamview_url:str = 'http://3.12.231.36:30100',\n",
    "                     v3io_container:str = 'bigdata',\n",
    "                     stocks_kv_table:str = 'stocks/stocks_kv',\n",
    "                     stocks_tsdb_table:str = 'stocks/stocks_tsdb',\n",
    "                     stocks_sentiment_tsdb_table:str = 'stocks/stocks_sentiment_tsdb'):\n",
    "    # Create a new Grafana dashboard\n",
    "    DataSource(name='stream-viewer', frames_url=streamview_url).deploy(grafana_url, use_auth=False)\n",
    "    \n",
    "    dash = Dashboard(\"stocks-test\", start='now-1d', dataSource='Iguazio')\n",
    "\n",
    "    # Add a symbol combo box (template) with data from the stocks table\n",
    "    dash.template(name=\"SYMBOL\", label=\"Symbol\", query=\"fields=symbol;table=stocks/stocks_kv;backend=kv;container=bigdata\")\n",
    "\n",
    "    # Create a table and log viewer in one row\n",
    "    tbl = Table('tbl1',span=8).source(table=stocks_kv_table,fields=['symbol','volume', 'price','last_updated'],container=v3io_container)\n",
    "    log = Table('log', dataSource='stream-viewer', span=4)\n",
    "    dash.row([tbl,log])\n",
    "\n",
    "    # Create 2 charts on the second row\n",
    "    dash.row([Graph(metric).series(table=stocks_tsdb_table, fields=[metric], filter='symbol==\"$SYMBOL\"',container=v3io_container) for metric in ['price','volume']])\n",
    "    dash.row([Graph('sentiment').series(table=stocks_sentiment_tsdb_table, fields=['sentiment'], filter='symbol==\"$SYMBOL\"', container=v3io_container)])\n",
    "    \n",
    "    # Deploy to Grafana\n",
    "    return dash.deploy(grafana_url)"
   ]
  },
  {
   "cell_type": "code",
   "execution_count": 12,
   "metadata": {},
   "outputs": [],
   "source": [
    "# nuclio: end-code"
   ]
  },
  {
   "cell_type": "markdown",
   "metadata": {},
   "source": [
    "## Local test"
   ]
  },
  {
   "cell_type": "code",
   "execution_count": 13,
   "metadata": {},
   "outputs": [
    {
     "name": "stdout",
     "output_type": "stream",
     "text": [
      "> 2020-09-27 11:04:42,807 [info] function spec saved to path: 06-grafana.yaml\n"
     ]
    },
    {
     "data": {
      "text/plain": [
       "<mlrun.runtimes.kubejob.KubejobRuntime at 0x7fba6f43dc90>"
      ]
     },
     "execution_count": 13,
     "metadata": {},
     "output_type": "execute_result"
    }
   ],
   "source": [
    "from mlrun import code_to_function, run_local\n",
    "\n",
    "fn = code_to_function('grafana_dashboard_deployer',\n",
    "                      kind='job',\n",
    "                      handler='deploy_dashboard',\n",
    "                      project='stocks')\n",
    "fn.spec.build.base_image = 'mlrun/mlrun'\n",
    "fn.export('06-grafana.yaml')"
   ]
  },
  {
   "cell_type": "code",
   "execution_count": null,
   "metadata": {},
   "outputs": [],
   "source": [
    "run_local(handler=deploy_dashboard)"
   ]
  },
  {
   "cell_type": "code",
   "execution_count": null,
   "metadata": {},
   "outputs": [],
   "source": []
  }
 ],
 "metadata": {
  "kernelspec": {
   "display_name": "Python 3",
   "language": "python",
   "name": "python3"
  },
  "language_info": {
   "codemirror_mode": {
    "name": "ipython",
    "version": 3
   },
   "file_extension": ".py",
   "mimetype": "text/x-python",
   "name": "python",
   "nbconvert_exporter": "python",
   "pygments_lexer": "ipython3",
   "version": "3.7.6"
  }
 },
 "nbformat": 4,
 "nbformat_minor": 4
}
