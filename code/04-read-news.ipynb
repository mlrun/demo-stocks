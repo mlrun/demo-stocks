{
 "cells": [
  {
   "cell_type": "markdown",
   "metadata": {},
   "source": [
    "# Scrape news and Analyse sentiments\n",
    "This notebook shows an example of scraping news articles linked to specific traded companies and utilizing our predeployed sentiment analysis model server to predict the sentiment of the author towards said companies."
   ]
  },
  {
   "cell_type": "code",
   "execution_count": 1,
   "metadata": {},
   "outputs": [],
   "source": [
    "# if the nuclio-jupyter package is not installed run !pip install nuclio-jupyter\n",
    "import nuclio "
   ]
  },
  {
   "cell_type": "markdown",
   "metadata": {},
   "source": [
    "## Environment"
   ]
  },
  {
   "cell_type": "code",
   "execution_count": 2,
   "metadata": {},
   "outputs": [],
   "source": [
    "%nuclio env -c V3IO_ACCESS_KEY=${V3IO_ACCESS_KEY}\n",
    "%nuclio env -c V3IO_USERNAME=${V3IO_USERNAME}\n",
    "%nuclio env -c V3IO_API=${V3IO_API}"
   ]
  },
  {
   "cell_type": "code",
   "execution_count": 3,
   "metadata": {},
   "outputs": [],
   "source": [
    "%%nuclio cmd -c\n",
    "pip install beautifulsoup4\n",
    "pip install pandas\n",
    "pip install v3io_frames"
   ]
  },
  {
   "cell_type": "code",
   "execution_count": 4,
   "metadata": {},
   "outputs": [
    {
     "name": "stdout",
     "output_type": "stream",
     "text": [
      "%nuclio: setting spec.build.baseImage to 'python:3.6-jessie'\n"
     ]
    }
   ],
   "source": [
    "%nuclio config spec.build.baseImage = \"python:3.6-jessie\""
   ]
  },
  {
   "cell_type": "markdown",
   "metadata": {},
   "source": [
    "## Function"
   ]
  },
  {
   "cell_type": "code",
   "execution_count": 5,
   "metadata": {},
   "outputs": [],
   "source": [
    "# nuclio: start-code"
   ]
  },
  {
   "cell_type": "code",
   "execution_count": 14,
   "metadata": {},
   "outputs": [],
   "source": [
    "from bs4 import BeautifulSoup as bs\n",
    "from urllib.request import Request, urlopen\n",
    "import requests\n",
    "import pandas as pd\n",
    "import v3io_frames as v3f\n",
    "from unicodedata import normalize\n",
    "from datetime import datetime\n",
    "import re\n",
    "import os\n",
    "import json"
   ]
  },
  {
   "cell_type": "code",
   "execution_count": 7,
   "metadata": {},
   "outputs": [],
   "source": [
    "def get_stock_news_page(stock_string):\n",
    "    request = Request('https://www.investing.com/equities/' + stock_string + '-news', headers={\"User-Agent\": \"Mozilla/5.0\"})\n",
    "    content = urlopen(request).read()\n",
    "    return bs(content, 'html.parser')\n",
    "\n",
    "def get_internal_article_links(page):\n",
    "    news = page.find_all('div', attrs={'class': 'mediumTitle1'})[1]\n",
    "    articles = news.find_all('article', attrs={'class': 'js-article-item articleItem'})\n",
    "    return ['https://www.investing.com' + a.find('a').attrs['href'] for a in articles]\n",
    "\n",
    "def get_article_page(article_link):\n",
    "    request = Request(article_link, headers={\"User-Agent\": \"Mozilla/5.0\"})\n",
    "    content = urlopen(request).read()\n",
    "    return bs(content, 'html.parser')\n",
    "\n",
    "def clean_paragraph(paragraph):\n",
    "    paragraph = re.sub(r'\\(http\\S+', '', paragraph)\n",
    "    paragraph = re.sub(r'\\([A-Z]+:[A-Z]+\\)', '', paragraph)\n",
    "    paragraph = re.sub(r'[\\n\\t\\s\\']', ' ', paragraph)\n",
    "    return normalize('NFKD', paragraph)    \n",
    "\n",
    "def extract_text(article_page):\n",
    "    text_tag = article_page.find('div', attrs={'class': 'WYSIWYG articlePage'})\n",
    "    paragraphs = text_tag.find_all('p')\n",
    "    text = '\\n'.join([clean_paragraph(p.get_text()) for p in paragraphs[:-1]])\n",
    "    return text\n",
    "\n",
    "def get_publish_time(article_page):\n",
    "    details = article_page.find('meta', attrs={'itemprop': 'datePublished'})\n",
    "    publish_date = details.get_attribute_list('content')[0]\n",
    "    return str(datetime.strptime(publish_date, '%Y-%m-%d'))\n",
    "\n",
    "def get_score(paragraph_scores):\n",
    "    return sum([score - 1 for score in paragraph_scores]) / len(paragraph_scores)  \n",
    "\n",
    "def get_article_scores(articles, endpoint):\n",
    "    scores = [] \n",
    "    for i, article in enumerate(articles):\n",
    "        context.logger.info(f'getting score for article {i + 1}\\\\{len(articles)}')\n",
    "        event_data = {'instances': article.split('\\n')}\n",
    "        resp = requests.put(endpoint+'/bert_classifier_v1/predict', json=json.dumps(event_data))\n",
    "        scores.append(get_score(json.loads(resp.text)))\n",
    "    return scores"
   ]
  },
  {
   "cell_type": "code",
   "execution_count": 8,
   "metadata": {},
   "outputs": [],
   "source": [
    "def init_context(context):\n",
    "    # Setup V3IO Client\n",
    "    client = v3f.Client('framesd:8081',container=os.getenv('V3IO_CONTAINER', 'bigdata'))\n",
    "    setattr(context, 'v3c', client)\n",
    "    \n",
    "    # Create stocks stream\n",
    "    setattr(context, 'stocks_stream', os.getenv('STOCKS_STREAM', 'stocks/stocks_stream'))\n",
    "    context.v3c.create(backend='stream', table=context.stocks_stream, if_exists=1)\n",
    "    \n",
    "    # Supply the endpoint provided at the end of execution of 00-deploy-sentiment-model.ipynb.\n",
    "    setattr(context, 'sentiment_model_endpoint', os.getenv('SENTIMENT_MODEL_ENDPOINT', 'http://192.168.224.209:32372'))\n",
    "\n",
    "    sym_to_url={'GOOGL': 'google-inc', 'MSFT': 'microsoft-corp', 'AMZN': 'amazon-com-inc', 'AAPL': 'apple-computer-inc'}\n",
    "    setattr(context,'sym_to_url', sym_to_url)"
   ]
  },
  {
   "cell_type": "code",
   "execution_count": 9,
   "metadata": {},
   "outputs": [],
   "source": [
    "def handler(context, handler):\n",
    "    \n",
    "    syms = []\n",
    "    contents = []\n",
    "    links = []\n",
    "    times = []\n",
    "    sentiments = []\n",
    "    \n",
    "    for sym, url_string in context.sym_to_url.items():\n",
    "        context.logger.info(f'Getting news about {sym}')\n",
    "        news_page = get_stock_news_page(url_string)\n",
    "        article_links = get_internal_article_links(news_page)\n",
    "        article_pages = [get_article_page(link) for link in article_links]\n",
    "        articles = [extract_text(article_page) for article_page in article_pages]\n",
    "        curr_sentiments = get_article_scores(articles, context.sentiment_model_endpoint)\n",
    "        curr_times = [get_publish_time(article_page) for article_page in article_pages]\n",
    "        \n",
    "        sentiments += curr_sentiments\n",
    "        times += curr_times\n",
    "        for article, link in zip(articles, article_links):\n",
    "            syms.append(sym)\n",
    "            contents.append(article)\n",
    "            links.append(link)\n",
    "    \n",
    "    \n",
    "    for i in range(len(contents)):\n",
    "        record = {\n",
    "            'content': contents[i],\n",
    "            'time': times[i],\n",
    "            'symbol': syms[i],\n",
    "            'link': links[i],\n",
    "            'sentiment': sentiments[i]\n",
    "        }\n",
    "        \n",
    "        context.v3c.execute('stream', context.stocks_stream, 'put', args={'data': json.dumps(record)})"
   ]
  },
  {
   "cell_type": "code",
   "execution_count": 10,
   "metadata": {},
   "outputs": [],
   "source": [
    "# nuclio: end-code"
   ]
  },
  {
   "cell_type": "markdown",
   "metadata": {},
   "source": [
    "## Test locally"
   ]
  },
  {
   "cell_type": "code",
   "execution_count": 15,
   "metadata": {},
   "outputs": [],
   "source": [
    "init_context(context)"
   ]
  },
  {
   "cell_type": "code",
   "execution_count": 16,
   "metadata": {},
   "outputs": [],
   "source": [
    "from nuclio_sdk import Event\n",
    "event = Event()"
   ]
  },
  {
   "cell_type": "code",
   "execution_count": 17,
   "metadata": {},
   "outputs": [
    {
     "name": "stdout",
     "output_type": "stream",
     "text": [
      "Python> 2020-09-14 12:44:59,399 [info] Getting news about GOOGL\n",
      "Python> 2020-09-14 12:45:12,208 [info] getting score for article 1\\7\n",
      "Python> 2020-09-14 12:45:14,499 [info] getting score for article 2\\7\n",
      "Python> 2020-09-14 12:45:16,223 [info] getting score for article 3\\7\n",
      "Python> 2020-09-14 12:45:18,892 [info] getting score for article 4\\7\n",
      "Python> 2020-09-14 12:45:20,902 [info] getting score for article 5\\7\n",
      "Python> 2020-09-14 12:45:24,023 [info] getting score for article 6\\7\n",
      "Python> 2020-09-14 12:45:25,703 [info] getting score for article 7\\7\n",
      "Python> 2020-09-14 12:45:27,961 [info] Getting news about MSFT\n",
      "Python> 2020-09-14 12:45:39,972 [info] getting score for article 1\\7\n",
      "Python> 2020-09-14 12:45:42,111 [info] getting score for article 2\\7\n",
      "Python> 2020-09-14 12:45:43,856 [info] getting score for article 3\\7\n",
      "Python> 2020-09-14 12:45:45,848 [info] getting score for article 4\\7\n",
      "Python> 2020-09-14 12:45:47,865 [info] getting score for article 5\\7\n",
      "Python> 2020-09-14 12:45:50,690 [info] getting score for article 6\\7\n",
      "Python> 2020-09-14 12:45:53,637 [info] getting score for article 7\\7\n",
      "Python> 2020-09-14 12:45:55,918 [info] Getting news about AMZN\n",
      "Python> 2020-09-14 12:46:06,847 [info] getting score for article 1\\6\n",
      "Python> 2020-09-14 12:46:08,983 [info] getting score for article 2\\6\n",
      "Python> 2020-09-14 12:46:10,796 [info] getting score for article 3\\6\n",
      "Python> 2020-09-14 12:46:14,070 [info] getting score for article 4\\6\n",
      "Python> 2020-09-14 12:46:16,137 [info] getting score for article 5\\6\n",
      "Python> 2020-09-14 12:46:18,858 [info] getting score for article 6\\6\n",
      "Python> 2020-09-14 12:46:21,514 [info] Getting news about AAPL\n",
      "Python> 2020-09-14 12:46:34,728 [info] getting score for article 1\\8\n",
      "Python> 2020-09-14 12:46:37,074 [info] getting score for article 2\\8\n",
      "Python> 2020-09-14 12:46:38,686 [info] getting score for article 3\\8\n",
      "Python> 2020-09-14 12:46:40,533 [info] getting score for article 4\\8\n",
      "Python> 2020-09-14 12:46:42,715 [info] getting score for article 5\\8\n",
      "Python> 2020-09-14 12:46:44,713 [info] getting score for article 6\\8\n",
      "Python> 2020-09-14 12:46:47,140 [info] getting score for article 7\\8\n",
      "Python> 2020-09-14 12:46:49,224 [info] getting score for article 8\\8\n"
     ]
    }
   ],
   "source": [
    "handler(context, event)"
   ]
  },
  {
   "cell_type": "markdown",
   "metadata": {},
   "source": [
    "## Deploy to cluster"
   ]
  },
  {
   "cell_type": "code",
   "execution_count": 20,
   "metadata": {},
   "outputs": [
    {
     "data": {
      "text/plain": [
       "<mlrun.runtimes.function.RemoteRuntime at 0x7f89452e7b38>"
      ]
     },
     "execution_count": 20,
     "metadata": {},
     "output_type": "execute_result"
    }
   ],
   "source": [
    "from mlrun import code_to_function\n",
    "\n",
    "environment_variables = {'V3IO_CONTAINER': 'bigdata',\n",
    "                         'STOCKS_STREAM': 'stocks/stocks_stream',\n",
    "                         'SENTIMENT_MODEL_ENDPOINT': 'http://192.168.224.209:32372'}\n",
    "\n",
    "fn = code_to_function('read-news',\n",
    "                      kind='nuclio',\n",
    "                      handler='handler')\n",
    "fn.set_envs(environment_variables)\n",
    "fn.add_trigger('cron', nuclio.triggers.CronTrigger(interval='300s'))"
   ]
  },
  {
   "cell_type": "code",
   "execution_count": null,
   "metadata": {},
   "outputs": [
    {
     "name": "stdout",
     "output_type": "stream",
     "text": [
      "> 2020-09-14 13:06:10,954 [info] deploy started\n",
      "[nuclio] 2020-09-14 13:06:13,107 (info) Build complete\n"
     ]
    }
   ],
   "source": [
    "fn.deploy(project='stocks')"
   ]
  },
  {
   "cell_type": "code",
   "execution_count": null,
   "metadata": {},
   "outputs": [],
   "source": []
  }
 ],
 "metadata": {
  "kernelspec": {
   "display_name": "Python 3",
   "language": "python",
   "name": "python3"
  },
  "language_info": {
   "codemirror_mode": {
    "name": "ipython",
    "version": 3
   },
   "file_extension": ".py",
   "mimetype": "text/x-python",
   "name": "python",
   "nbconvert_exporter": "python",
   "pygments_lexer": "ipython3",
   "version": "3.6.8"
  }
 },
 "nbformat": 4,
 "nbformat_minor": 4
}
