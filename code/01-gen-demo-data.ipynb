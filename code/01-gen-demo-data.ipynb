{
 "cells": [
  {
   "cell_type": "markdown",
   "metadata": {},
   "source": [
    "# Generate Stocks Demo Data\n",
    "\n",
    "We use Yahoo finance api to generate some historic data along some dummy data to intially fill key-value, time-series database and stream tables."
   ]
  },
  {
   "cell_type": "code",
   "execution_count": 1,
   "metadata": {},
   "outputs": [],
   "source": [
    "# import required libraries \n",
    "import yfinance as yf\n",
    "import numpy as np\n",
    "import pandas as pd\n",
    "import v3io_frames as v3f\n",
    "import os\n",
    "from datetime import datetime"
   ]
  },
  {
   "cell_type": "code",
   "execution_count": 2,
   "metadata": {},
   "outputs": [],
   "source": [
    "# initialize iguazio multi-model DB dataframe client library \n",
    "client = v3f.Client('framesd:8081')"
   ]
  },
  {
   "cell_type": "markdown",
   "metadata": {},
   "source": [
    "## Delete KV, TSDB, and Stream tabels\n",
    "in case we want to start things from scratch (delete current tabels), uncomment the following line(s) and run them "
   ]
  },
  {
   "cell_type": "code",
   "execution_count": 3,
   "metadata": {},
   "outputs": [],
   "source": [
    "#client.delete('kv','stocks')"
   ]
  },
  {
   "cell_type": "code",
   "execution_count": 4,
   "metadata": {},
   "outputs": [],
   "source": [
    "#client.delete('tsdb','stock_metrics')"
   ]
  },
  {
   "cell_type": "code",
   "execution_count": 5,
   "metadata": {},
   "outputs": [],
   "source": [
    "#client.delete('stream','stock_stream')"
   ]
  },
  {
   "cell_type": "markdown",
   "metadata": {},
   "source": [
    "## Create TSDB and Stream tabels "
   ]
  },
  {
   "cell_type": "code",
   "execution_count": 6,
   "metadata": {},
   "outputs": [],
   "source": [
    "client.create(backend='tsdb', table='stock_metrics', rate='1/m')"
   ]
  },
  {
   "cell_type": "code",
   "execution_count": 7,
   "metadata": {},
   "outputs": [],
   "source": [
    "client.create(backend='stream', table='stock_stream', retention_hours=48, shards=1)"
   ]
  },
  {
   "cell_type": "code",
   "execution_count": 8,
   "metadata": {},
   "outputs": [],
   "source": [
    "# fill the key/value table with some data (KV tables are automatically created on write and have a dynamic schema)\n",
    "kvtbl = '{\"price\":{\"GOOG\":1039.55,\"AMZN\":1641.03,\"AAPL\":169.6,\"MSFT\":107.59,\"INTC\":47.21},\"volume\":{\"GOOG\":1807725.1,\"AMZN\":7494808.1,\"AAPL\":62025994.1,\"MSFT\":40801525.1,\"INTC\":23289000.1},\"symbol\":{\"GOOG\":\"GOOG\",\"AMZN\":\"AMZN\",\"AAPL\":\"AAPL\",\"MSFT\":\"MSFT\",\"INTC\":\"INTC\"},\"last_updated\":{\"GOOG\":\"2020-07-26 06:41:56\",\"AMZN\":\"2020-07-26 06:41:56\",\"AAPL\":\"2020-07-26 06:41:56\",\"MSFT\":\"2020-07-26 06:41:56\",\"INTC\":\"2020-07-26 06:41:56\"}}'\n",
    "client.write(backend='kv', table='stocks', dfs=pd.read_json(kvtbl))"
   ]
  },
  {
   "cell_type": "markdown",
   "metadata": {},
   "source": [
    "## Fill the time-series table with a week worth of data from Yahoo Finance API"
   ]
  },
  {
   "cell_type": "code",
   "execution_count": 9,
   "metadata": {},
   "outputs": [
    {
     "name": "stdout",
     "output_type": "stream",
     "text": [
      "                                    price     volume\n",
      "time                      symbol                    \n",
      "2020-07-27 09:30:00-04:00 AMZN    3051.72  1568959.0\n",
      "2020-07-27 10:30:00-04:00 AMZN    3027.56   642495.0\n",
      "2020-07-27 11:30:00-04:00 AMZN    3037.39   414108.0\n",
      "2020-07-27 12:30:00-04:00 AMZN    3042.32   274094.0\n",
      "2020-07-27 13:30:00-04:00 AMZN    3062.72   333548.0\n"
     ]
    }
   ],
   "source": [
    "# # read the stocks kv table (to get the Symboles)\n",
    "sdf = client.read(backend='kv', table='stocks') \n",
    "stock_list = sdf.index.tolist()\n",
    "\n",
    "symbols = []\n",
    "times = []\n",
    "prices = []\n",
    "volumes = []\n",
    "\n",
    "for stock_sym in stock_list:\n",
    "        stock_data = yf.Ticker(stock_sym).history(period='7d', interval='60m')\n",
    "        for rec_time, rec_data in stock_data.iterrows():\n",
    "            symbols.append(stock_sym)\n",
    "            times.append(rec_time)\n",
    "            prices.append(rec_data['Close'])\n",
    "            volumes.append(rec_data['Volume']) \n",
    "        \n",
    "df = pd.DataFrame({'price': prices, 'volume': volumes}, index=[times, symbols])\n",
    "df.index.names=['time','symbol']\n",
    "print(df.head())\n",
    "client.write(backend='tsdb', table='stock_metrics', dfs=df)"
   ]
  },
  {
   "cell_type": "markdown",
   "metadata": {},
   "source": [
    "## Fill dummy news article data in the stream"
   ]
  },
  {
   "cell_type": "code",
   "execution_count": 10,
   "metadata": {},
   "outputs": [
    {
     "data": {
      "text/html": [
       "<div>\n",
       "<style scoped>\n",
       "    .dataframe tbody tr th:only-of-type {\n",
       "        vertical-align: middle;\n",
       "    }\n",
       "\n",
       "    .dataframe tbody tr th {\n",
       "        vertical-align: top;\n",
       "    }\n",
       "\n",
       "    .dataframe thead th {\n",
       "        text-align: right;\n",
       "    }\n",
       "</style>\n",
       "<table border=\"1\" class=\"dataframe\">\n",
       "  <thead>\n",
       "    <tr style=\"text-align: right;\">\n",
       "      <th></th>\n",
       "    </tr>\n",
       "  </thead>\n",
       "  <tbody>\n",
       "  </tbody>\n",
       "</table>\n",
       "</div>"
      ],
      "text/plain": [
       "Empty DataFrame\n",
       "Columns: []\n",
       "Index: []"
      ]
     },
     "execution_count": 10,
     "metadata": {},
     "output_type": "execute_result"
    }
   ],
   "source": [
    "import json\n",
    "record = {'content': 'bla bla bla', \n",
    "          'time': '2020-07-23 00:00:00',\n",
    "          'symbol': 'AMZN',\n",
    "          'link' : 'https://example-url.com/',\n",
    "          'sentiment': 0.5,\n",
    "         }\n",
    "client.execute('stream', 'stock_stream', 'put', args={'data': json.dumps(record)})"
   ]
  },
  {
   "cell_type": "code",
   "execution_count": null,
   "metadata": {},
   "outputs": [],
   "source": []
  }
 ],
 "metadata": {
  "kernelspec": {
   "display_name": "Python 3",
   "language": "python",
   "name": "python3"
  },
  "language_info": {
   "codemirror_mode": {
    "name": "ipython",
    "version": 3
   },
   "file_extension": ".py",
   "mimetype": "text/x-python",
   "name": "python",
   "nbconvert_exporter": "python",
   "pygments_lexer": "ipython3",
   "version": "3.7.5"
  }
 },
 "nbformat": 4,
 "nbformat_minor": 4
}
