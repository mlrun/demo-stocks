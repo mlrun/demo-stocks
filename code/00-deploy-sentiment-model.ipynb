{
 "cells": [
  {
   "cell_type": "markdown",
   "metadata": {},
   "source": [
    "# Step 1 - Deploy Sentiment Analysis Endpoint\n",
    "\n",
    "Part of the stocks demo includes sentiment analysis on top of different financial feeds to elicit the market's sentiment towards the stock.  \n",
    "To achieve that will use a [bert](https://arxiv.org/pdf/1810.04805.pdf) based language model pre-trained on our listed datasources."
   ]
  },
  {
   "cell_type": "markdown",
   "metadata": {},
   "source": [
    "### Configurations\n",
    "Where do we want to save our models?"
   ]
  },
  {
   "cell_type": "code",
   "execution_count": 2,
   "metadata": {},
   "outputs": [],
   "source": [
    "import os"
   ]
  },
  {
   "cell_type": "code",
   "execution_count": 3,
   "metadata": {},
   "outputs": [
    {
     "name": "stdout",
     "output_type": "stream",
     "text": [
      "Model file will be saved to /User/demo-stocks/models/model.pt\n"
     ]
    }
   ],
   "source": [
    "# Configurations\n",
    "project = 'stocks'\n",
    "model_location = 'https://iguazio-sample-data.s3.amazonaws.com/models/model.pt'\n",
    "saved_models_directory = os.path.join(os.path.abspath('../'), 'models')\n",
    "\n",
    "# Create paths\n",
    "os.makedirs(saved_models_directory, exist_ok=1)\n",
    "model_filepath = os.path.join(saved_models_directory, os.path.basename(model_location))\n",
    "print(f'Model file will be saved to {model_filepath}')"
   ]
  },
  {
   "cell_type": "markdown",
   "metadata": {},
   "source": [
    "We need to download the model to our designated directory"
   ]
  },
  {
   "cell_type": "code",
   "execution_count": 3,
   "metadata": {},
   "outputs": [
    {
     "name": "stdout",
     "output_type": "stream",
     "text": [
      "--2020-09-08 11:46:33--  https://iguazio-sample-data.s3.amazonaws.com/models/model.pt\n",
      "Resolving iguazio-sample-data.s3.amazonaws.com (iguazio-sample-data.s3.amazonaws.com)... 52.216.245.108\n",
      "Connecting to iguazio-sample-data.s3.amazonaws.com (iguazio-sample-data.s3.amazonaws.com)|52.216.245.108|:443... connected.\n",
      "HTTP request sent, awaiting response... 200 OK\n",
      "Length: 433298364 (413M) [application/x-www-form-urlencoded]\n",
      "Saving to: ‘/User/demo-stocks/models/model.pt’\n",
      "\n",
      "model.pt            100%[===================>] 413.22M  10.6MB/s    in 2m 27s  \n",
      "\n",
      "2020-09-08 11:49:01 (2.81 MB/s) - ‘/User/demo-stocks/models/model.pt’ saved [433298364/433298364]\n",
      "\n"
     ]
    }
   ],
   "source": [
    "! wget -N -P {saved_models_directory} {model_location} "
   ]
  },
  {
   "cell_type": "markdown",
   "metadata": {},
   "source": [
    "## Deploy sentiment function from hub"
   ]
  },
  {
   "cell_type": "markdown",
   "metadata": {},
   "source": [
    "Next, we will import the [sentiment server](https://github.com/mlrun/functions/blob/master/sentiment_analysis_serving/bert_sentiment_analysis_serving.ipynb) from mlrun's function hub."
   ]
  },
  {
   "cell_type": "code",
   "execution_count": 6,
   "metadata": {},
   "outputs": [],
   "source": [
    "from mlrun import import_function, mount_v3io\n",
    "server_fn = import_function(url='hub://sentiment_analysis_serving')\n",
    "\n",
    "# Add the sentiment analysis model\n",
    "server_fn.add_model('bert_classifier_v1', model_filepath)\n",
    "\n",
    "# Add V3IO Mount\n",
    "server_fn.apply(mount_v3io())\n",
    "\n",
    "# Increase readiness timeout\n",
    "server_fn.spec.readinessTimeoutSeconds = 500\n",
    "server_fn.metadata.labels = {}"
   ]
  },
  {
   "cell_type": "markdown",
   "metadata": {},
   "source": [
    "Finally, deploy it to the cluster."
   ]
  },
  {
   "cell_type": "code",
   "execution_count": 7,
   "metadata": {},
   "outputs": [
    {
     "name": "stdout",
     "output_type": "stream",
     "text": [
      "> 2020-09-13 14:28:06,894 [info] deploy started\n",
      "[nuclio] 2020-09-13 14:28:09,022 (info) Build complete\n",
      "[nuclio] 2020-09-13 14:28:50,766 (info) Function deploy complete\n",
      "[nuclio] 2020-09-13 14:28:50,776 done updating stocks-sentiment-analysis-serving, function address: 192.168.224.209:32372\n"
     ]
    },
    {
     "data": {
      "text/plain": [
       "'http://192.168.224.209:32372'"
      ]
     },
     "execution_count": 7,
     "metadata": {},
     "output_type": "execute_result"
    }
   ],
   "source": [
    "server_fn.deploy(project='stocks')"
   ]
  },
  {
   "cell_type": "markdown",
   "metadata": {},
   "source": [
    "Please note the http endpoint above. We will use it later on."
   ]
  }
 ],
 "metadata": {
  "kernelspec": {
   "display_name": "Python 3",
   "language": "python",
   "name": "python3"
  },
  "language_info": {
   "codemirror_mode": {
    "name": "ipython",
    "version": 3
   },
   "file_extension": ".py",
   "mimetype": "text/x-python",
   "name": "python",
   "nbconvert_exporter": "python",
   "pygments_lexer": "ipython3",
   "version": "3.6.8"
  }
 },
 "nbformat": 4,
 "nbformat_minor": 4
}